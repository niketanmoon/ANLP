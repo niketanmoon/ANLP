{
 "cells": [
  {
   "cell_type": "markdown",
   "id": "a69e2eb9",
   "metadata": {},
   "source": [
    "<h3 style = \"font-size:60px; font-family:Garamond ; font-weight : normal; background-color: #f6f5f5 ; color : #fe346e; text-align: center; border-radius: 100px 100px;\">Importing the libraries</h3>"
   ]
  },
  {
   "cell_type": "code",
   "execution_count": 1,
   "id": "5c9e77e5",
   "metadata": {},
   "outputs": [
    {
     "name": "stderr",
     "output_type": "stream",
     "text": [
      "[nltk_data] Downloading package wordnet to /Users/niketan/nltk_data...\n",
      "[nltk_data]   Package wordnet is already up-to-date!\n",
      "[nltk_data] Downloading package omw-1.4 to /Users/niketan/nltk_data...\n",
      "[nltk_data]   Package omw-1.4 is already up-to-date!\n"
     ]
    },
    {
     "data": {
      "text/plain": [
       "True"
      ]
     },
     "execution_count": 1,
     "metadata": {},
     "output_type": "execute_result"
    }
   ],
   "source": [
    "import numpy as np\n",
    "import re\n",
    "import pandas as pd\n",
    "import matplotlib.pyplot as plt\n",
    "import warnings\n",
    "warnings.filterwarnings(\"ignore\")\n",
    "import xml.etree.ElementTree as et\n",
    "import csv\n",
    "# !pip install spacy\n",
    "import spacy\n",
    "from spacy import displacy\n",
    "\n",
    "import matplotlib.pyplot as plt\n",
    "import nltk\n",
    "from nltk.tokenize.toktok import ToktokTokenizer\n",
    "\n",
    "# For word lemmatization\n",
    "from nltk.stem import WordNetLemmatizer\n",
    "nltk.download('wordnet')\n",
    "nltk.download('omw-1.4')"
   ]
  },
  {
   "cell_type": "code",
   "execution_count": 2,
   "id": "9f59be1c",
   "metadata": {},
   "outputs": [],
   "source": [
    "# uncomment and run if you have not downloaded en_core_web_sm\n",
    "# !python -m spacy download en_core_web_sm "
   ]
  },
  {
   "cell_type": "code",
   "execution_count": 3,
   "id": "26600653",
   "metadata": {},
   "outputs": [],
   "source": [
    "nlp = spacy.load(\"en_core_web_sm\")"
   ]
  },
  {
   "cell_type": "markdown",
   "id": "db7c90c7",
   "metadata": {},
   "source": [
    "<h3 style = \"font-size:60px; font-family:Garamond ; font-weight : normal; background-color: #f6f5f5 ; color : #fe346e; text-align: center; border-radius: 100px 100px;\">Importing the dataset</h3>"
   ]
  },
  {
   "cell_type": "code",
   "execution_count": 4,
   "id": "9cd9e5dd",
   "metadata": {},
   "outputs": [],
   "source": [
    "filePath = \"Restaurants.xml\"\n",
    "root = et.parse(filePath).getroot()"
   ]
  },
  {
   "cell_type": "markdown",
   "id": "e6632757",
   "metadata": {},
   "source": [
    "<h3 style = \"font-size:60px; font-family:Garamond ; font-weight : normal; background-color: #f6f5f5 ; color : #fe346e; text-align: center; border-radius: 100px 100px;\">Transforming xml to csv</h3>"
   ]
  },
  {
   "cell_type": "code",
   "execution_count": 5,
   "id": "011d3577",
   "metadata": {},
   "outputs": [],
   "source": [
    "def transformXMLtoCSV(root):\n",
    "    csvfile = open(\"restaurants.csv\",'w',encoding='utf-8')\n",
    "    csvfile_writer = csv.writer(csvfile)\n",
    "    csvfile_writer.writerow([\"id\", \"text\", \"term\", \"polarity\"])\n",
    "    \n",
    "    for sentence in root:\n",
    "        if sentence:\n",
    "            id = sentence.attrib.get(\"id\", None)\n",
    "            if sentence.find(\"text\") is not None:\n",
    "                text = sentence.find(\"text\").text\n",
    "            else:\n",
    "                text = None\n",
    "            aspectTerms = sentence.find(\"aspectTerms\")\n",
    "            term = None; polarity = None\n",
    "            if aspectTerms is not None:\n",
    "                aspectTerm = aspectTerms.find(\"aspectTerm\")\n",
    "                if aspectTerm is not None:\n",
    "                    attributes = aspectTerm.attrib\n",
    "                    term = attributes.get(\"term\", None)\n",
    "                    polarity = attributes.get(\"polarity\", None)\n",
    "            if term and polarity:\n",
    "                csvLine = [id, text, term, polarity]\n",
    "                csvfile_writer.writerow(csvLine)"
   ]
  },
  {
   "cell_type": "code",
   "execution_count": 6,
   "id": "cf5eef6f",
   "metadata": {},
   "outputs": [],
   "source": [
    "transformXMLtoCSV(root)"
   ]
  },
  {
   "cell_type": "code",
   "execution_count": 7,
   "id": "ea3a025d",
   "metadata": {},
   "outputs": [],
   "source": [
    "dataset = pd.read_csv(\"restaurants.csv\")"
   ]
  },
  {
   "cell_type": "markdown",
   "id": "2abdf21e",
   "metadata": {},
   "source": [
    "<h3 style = \"font-size:60px; font-family:Garamond ; font-weight : normal; background-color: #f6f5f5 ; color : #fe346e; text-align: center; border-radius: 100px 100px;\">Data Exploration</h3>"
   ]
  },
  {
   "cell_type": "code",
   "execution_count": 8,
   "id": "a08909d1",
   "metadata": {},
   "outputs": [
    {
     "data": {
      "text/html": [
       "<div>\n",
       "<style scoped>\n",
       "    .dataframe tbody tr th:only-of-type {\n",
       "        vertical-align: middle;\n",
       "    }\n",
       "\n",
       "    .dataframe tbody tr th {\n",
       "        vertical-align: top;\n",
       "    }\n",
       "\n",
       "    .dataframe thead th {\n",
       "        text-align: right;\n",
       "    }\n",
       "</style>\n",
       "<table border=\"1\" class=\"dataframe\">\n",
       "  <thead>\n",
       "    <tr style=\"text-align: right;\">\n",
       "      <th></th>\n",
       "      <th>id</th>\n",
       "      <th>text</th>\n",
       "      <th>term</th>\n",
       "      <th>polarity</th>\n",
       "    </tr>\n",
       "  </thead>\n",
       "  <tbody>\n",
       "    <tr>\n",
       "      <th>0</th>\n",
       "      <td>3121</td>\n",
       "      <td>But the staff was so horrible to us.</td>\n",
       "      <td>staff</td>\n",
       "      <td>negative</td>\n",
       "    </tr>\n",
       "    <tr>\n",
       "      <th>1</th>\n",
       "      <td>2777</td>\n",
       "      <td>To be completely fair, the only redeeming fact...</td>\n",
       "      <td>food</td>\n",
       "      <td>positive</td>\n",
       "    </tr>\n",
       "    <tr>\n",
       "      <th>2</th>\n",
       "      <td>1634</td>\n",
       "      <td>The food is uniformly exceptional, with a very...</td>\n",
       "      <td>food</td>\n",
       "      <td>positive</td>\n",
       "    </tr>\n",
       "    <tr>\n",
       "      <th>3</th>\n",
       "      <td>2846</td>\n",
       "      <td>Not only was the food outstanding, but the lit...</td>\n",
       "      <td>food</td>\n",
       "      <td>positive</td>\n",
       "    </tr>\n",
       "    <tr>\n",
       "      <th>4</th>\n",
       "      <td>1458</td>\n",
       "      <td>Our agreed favorite is the orrechiete with sau...</td>\n",
       "      <td>orrechiete with sausage and chicken</td>\n",
       "      <td>positive</td>\n",
       "    </tr>\n",
       "  </tbody>\n",
       "</table>\n",
       "</div>"
      ],
      "text/plain": [
       "     id                                               text  \\\n",
       "0  3121               But the staff was so horrible to us.   \n",
       "1  2777  To be completely fair, the only redeeming fact...   \n",
       "2  1634  The food is uniformly exceptional, with a very...   \n",
       "3  2846  Not only was the food outstanding, but the lit...   \n",
       "4  1458  Our agreed favorite is the orrechiete with sau...   \n",
       "\n",
       "                                  term  polarity  \n",
       "0                                staff  negative  \n",
       "1                                 food  positive  \n",
       "2                                 food  positive  \n",
       "3                                 food  positive  \n",
       "4  orrechiete with sausage and chicken  positive  "
      ]
     },
     "execution_count": 8,
     "metadata": {},
     "output_type": "execute_result"
    }
   ],
   "source": [
    "dataset.head()"
   ]
  },
  {
   "cell_type": "code",
   "execution_count": 9,
   "id": "72fb78cc",
   "metadata": {},
   "outputs": [
    {
     "name": "stdout",
     "output_type": "stream",
     "text": [
      "<class 'pandas.core.frame.DataFrame'>\n",
      "RangeIndex: 2021 entries, 0 to 2020\n",
      "Data columns (total 4 columns):\n",
      " #   Column    Non-Null Count  Dtype \n",
      "---  ------    --------------  ----- \n",
      " 0   id        2021 non-null   int64 \n",
      " 1   text      2021 non-null   object\n",
      " 2   term      2021 non-null   object\n",
      " 3   polarity  2021 non-null   object\n",
      "dtypes: int64(1), object(3)\n",
      "memory usage: 63.3+ KB\n"
     ]
    }
   ],
   "source": [
    "dataset.info()"
   ]
  },
  {
   "cell_type": "markdown",
   "id": "5254c0cf",
   "metadata": {},
   "source": [
    "<h3 style = \"font-size:60px; font-family:Garamond ; font-weight : normal; background-color: #f6f5f5 ; color : #fe346e; text-align: center; border-radius: 100px 100px;\">Visualizing polarities</h3>"
   ]
  },
  {
   "cell_type": "code",
   "execution_count": 10,
   "id": "043311e2",
   "metadata": {},
   "outputs": [
    {
     "data": {
      "image/png": "[encoded data removed]",
      "text/plain": [
       "<Figure size 576x432 with 1 Axes>"
      ]
     },
     "metadata": {
      "needs_background": "light"
     },
     "output_type": "display_data"
    }
   ],
   "source": [
    "plt.figure(figsize=(8, 6))\n",
    "splot = dataset.polarity.value_counts().plot(kind=\"bar\")\n",
    "plt.bar_label(splot.containers[0])\n",
    "plt.show()"
   ]
  },
  {
   "cell_type": "code",
   "execution_count": 11,
   "id": "ca6742f5",
   "metadata": {},
   "outputs": [],
   "source": [
    "dataset = dataset[dataset.polarity != \"conflict\"]"
   ]
  },
  {
   "cell_type": "code",
   "execution_count": 12,
   "id": "4b425327",
   "metadata": {},
   "outputs": [
    {
     "data": {
      "image/png": "[encoded data removed]",
      "text/plain": [
       "<Figure size 576x432 with 1 Axes>"
      ]
     },
     "metadata": {
      "needs_background": "light"
     },
     "output_type": "display_data"
    }
   ],
   "source": [
    "plt.figure(figsize=(8, 6))\n",
    "splot = dataset.polarity.value_counts().plot(kind=\"bar\")\n",
    "plt.bar_label(splot.containers[0])\n",
    "plt.show()"
   ]
  },
  {
   "cell_type": "markdown",
   "id": "d2dbb9e8",
   "metadata": {},
   "source": [
    "<h3 style = \"font-size:60px; font-family:Garamond ; font-weight : normal; background-color: #f6f5f5 ; color : #fe346e; text-align: center; border-radius: 100px 100px;\">Extracting positive words</h3>"
   ]
  },
  {
   "cell_type": "code",
   "execution_count": 13,
   "id": "f40a24e1",
   "metadata": {},
   "outputs": [],
   "source": [
    "positive_file = \"positive-words.txt\"\n",
    "negative_file = \"negative-words.txt\"\n",
    "positive_list = []\n",
    "negative_list = []"
   ]
  },
  {
   "cell_type": "code",
   "execution_count": 14,
   "id": "446d53d8",
   "metadata": {},
   "outputs": [],
   "source": [
    "with open(positive_file, \"r\") as f:\n",
    "    for line in f:\n",
    "        positive_list.append(line.strip())"
   ]
  },
  {
   "cell_type": "markdown",
   "id": "a47a912d",
   "metadata": {},
   "source": [
    "<h3 style = \"font-size:60px; font-family:Garamond ; font-weight : normal; background-color: #f6f5f5 ; color : #fe346e; text-align: center; border-radius: 100px 100px;\">Extracting negative words</h3>"
   ]
  },
  {
   "cell_type": "code",
   "execution_count": 15,
   "id": "b38668c9",
   "metadata": {},
   "outputs": [],
   "source": [
    "with open(negative_file, \"r\", encoding = \"ISO-8859-1\") as f:\n",
    "    for line in f:\n",
    "        negative_list.append(line.strip())"
   ]
  },
  {
   "cell_type": "markdown",
   "id": "886de9ce",
   "metadata": {},
   "source": [
    "<h3 style = \"font-size:60px; font-family:Garamond ; font-weight : normal; background-color: #f6f5f5 ; color : #fe346e; text-align: center; border-radius: 100px 100px;\">First removing all the negative and positive words from stop words</h3>"
   ]
  },
  {
   "cell_type": "code",
   "execution_count": 16,
   "id": "84899b9a",
   "metadata": {},
   "outputs": [],
   "source": [
    "stopwords_list = list(spacy.lang.en.stop_words.STOP_WORDS)\n",
    "for w in stopwords_list:\n",
    "    if w in negative_list:\n",
    "        stopwords_list.remove(w)\n",
    "    if w in positive_list:\n",
    "        stopwords_list.remove(w)"
   ]
  },
  {
   "cell_type": "markdown",
   "id": "f3009a76",
   "metadata": {},
   "source": [
    "<h3 style = \"font-size:60px; font-family:Garamond ; font-weight : normal; background-color: #f6f5f5 ; color : #fe346e; text-align: center; border-radius: 100px 100px;\">Text preprocessing</h3>"
   ]
  },
  {
   "cell_type": "markdown",
   "id": "a7b214c5",
   "metadata": {},
   "source": [
    "### Removing punctuation"
   ]
  },
  {
   "cell_type": "code",
   "execution_count": 17,
   "id": "12feaef3",
   "metadata": {},
   "outputs": [],
   "source": [
    "def remove_punctuation(text):\n",
    "    return re.sub(r'[^\\w\\s]', \"\", text)\n",
    "\n",
    "def convert_to_lowercase(text):\n",
    "    return text.lower()"
   ]
  },
  {
   "cell_type": "code",
   "execution_count": 18,
   "id": "ae6d5c87",
   "metadata": {},
   "outputs": [],
   "source": [
    "dataset[\"text\"] = dataset.text.apply(remove_punctuation)\n",
    "dataset[\"text\"] = dataset.text.apply(convert_to_lowercase)\n",
    "\n",
    "# aspect term\n",
    "dataset[\"term\"] = dataset.term.apply(remove_punctuation)\n",
    "dataset[\"term\"] = dataset.term.apply(convert_to_lowercase)"
   ]
  },
  {
   "cell_type": "markdown",
   "id": "758b8e01",
   "metadata": {},
   "source": [
    "### Tokenization and stop words removal"
   ]
  },
  {
   "cell_type": "code",
   "execution_count": 19,
   "id": "6ca85684",
   "metadata": {},
   "outputs": [],
   "source": [
    "def apply_tokenization_and_remove_stopwords(text):\n",
    "    # Applying tokenization\n",
    "    tokens = [token.strip() for token in text.split()]\n",
    "    # applying removal of stopwords\n",
    "    text_no_stopwords = [word for word in tokens if word not in stopwords_list]\n",
    "    return \" \".join(text_no_stopwords)"
   ]
  },
  {
   "cell_type": "code",
   "execution_count": 20,
   "id": "0fc9dfc9",
   "metadata": {},
   "outputs": [],
   "source": [
    "dataset[\"text\"] = dataset.text.apply(apply_tokenization_and_remove_stopwords)\n",
    "dataset[\"term\"] = dataset.term.apply(apply_tokenization_and_remove_stopwords)"
   ]
  },
  {
   "cell_type": "markdown",
   "id": "5e77d45f",
   "metadata": {},
   "source": [
    "### Lemmatization"
   ]
  },
  {
   "cell_type": "code",
   "execution_count": 21,
   "id": "96b0c52e",
   "metadata": {},
   "outputs": [],
   "source": [
    "# Converting the text to root word - eg. low, lower, lowest converted to low\n",
    "def apply_lemmatization(sampleText):\n",
    "    lemmatized_review = []\n",
    "    lemmatizer = WordNetLemmatizer()\n",
    "    tokenizer = ToktokTokenizer()\n",
    "    tokens = tokenizer.tokenize(sampleText)\n",
    "    tokens = [token.strip() for token in tokens]\n",
    "    for w in tokens:\n",
    "        lemmatized_review.append(lemmatizer.lemmatize(w))\n",
    "    return \" \".join(lemmatized_review)"
   ]
  },
  {
   "cell_type": "code",
   "execution_count": 22,
   "id": "1c1fb724",
   "metadata": {},
   "outputs": [],
   "source": [
    "dataset[\"text\"] = dataset.text.apply(apply_lemmatization)\n",
    "dataset[\"term\"] = dataset.term.apply(apply_lemmatization)"
   ]
  },
  {
   "cell_type": "markdown",
   "id": "1bf1608d",
   "metadata": {},
   "source": [
    "<h3 style = \"font-size:60px; font-family:Garamond ; font-weight : normal; background-color: #f6f5f5 ; color : #fe346e; text-align: center; border-radius: 100px 100px;\">Sample Visualization of Rule 1</h3>"
   ]
  },
  {
   "cell_type": "code",
   "execution_count": 23,
   "id": "55709696",
   "metadata": {},
   "outputs": [
    {
     "data": {
      "text/html": [
       "<span class=\"tex2jax_ignore\"><svg xmlns=\"http://www.w3.org/2000/svg\" xmlns:xlink=\"http://www.w3.org/1999/xlink\" xml:lang=\"en\" id=\"3195bbb9fb58419b9147e4cd97f0574c-0\" class=\"displacy\" width=\"925\" height=\"399.5\" direction=\"ltr\" style=\"max-width: none; height: 399.5px; color: #000000; background: #ffffff; font-family: Arial; direction: ltr\">\n",
       "<text class=\"displacy-token\" fill=\"currentColor\" text-anchor=\"middle\" y=\"309.5\">\n",
       "    <tspan class=\"displacy-word\" fill=\"currentColor\" x=\"50\">food</tspan>\n",
       "    <tspan class=\"displacy-tag\" dy=\"2em\" fill=\"currentColor\" x=\"50\">NOUN</tspan>\n",
       "</text>\n",
       "\n",
       "<text class=\"displacy-token\" fill=\"currentColor\" text-anchor=\"middle\" y=\"309.5\">\n",
       "    <tspan class=\"displacy-word\" fill=\"currentColor\" x=\"225\">outstanding</tspan>\n",
       "    <tspan class=\"displacy-tag\" dy=\"2em\" fill=\"currentColor\" x=\"225\">ADJ</tspan>\n",
       "</text>\n",
       "\n",
       "<text class=\"displacy-token\" fill=\"currentColor\" text-anchor=\"middle\" y=\"309.5\">\n",
       "    <tspan class=\"displacy-word\" fill=\"currentColor\" x=\"400\">little</tspan>\n",
       "    <tspan class=\"displacy-tag\" dy=\"2em\" fill=\"currentColor\" x=\"400\">ADJ</tspan>\n",
       "</text>\n",
       "\n",
       "<text class=\"displacy-token\" fill=\"currentColor\" text-anchor=\"middle\" y=\"309.5\">\n",
       "    <tspan class=\"displacy-word\" fill=\"currentColor\" x=\"575\">perk</tspan>\n",
       "    <tspan class=\"displacy-tag\" dy=\"2em\" fill=\"currentColor\" x=\"575\">NOUN</tspan>\n",
       "</text>\n",
       "\n",
       "<text class=\"displacy-token\" fill=\"currentColor\" text-anchor=\"middle\" y=\"309.5\">\n",
       "    <tspan class=\"displacy-word\" fill=\"currentColor\" x=\"750\">great</tspan>\n",
       "    <tspan class=\"displacy-tag\" dy=\"2em\" fill=\"currentColor\" x=\"750\">ADJ</tspan>\n",
       "</text>\n",
       "\n",
       "<g class=\"displacy-arrow\">\n",
       "    <path class=\"displacy-arc\" id=\"arrow-3195bbb9fb58419b9147e4cd97f0574c-0-0\" stroke-width=\"2px\" d=\"M70,264.5 C70,177.0 215.0,177.0 215.0,264.5\" fill=\"none\" stroke=\"currentColor\"/>\n",
       "    <text dy=\"1.25em\" style=\"font-size: 0.8em; letter-spacing: 1px\">\n",
       "        <textPath xlink:href=\"#arrow-3195bbb9fb58419b9147e4cd97f0574c-0-0\" class=\"displacy-label\" startOffset=\"50%\" side=\"left\" fill=\"currentColor\" text-anchor=\"middle\">amod</textPath>\n",
       "    </text>\n",
       "    <path class=\"displacy-arrowhead\" d=\"M215.0,266.5 L223.0,254.5 207.0,254.5\" fill=\"currentColor\"/>\n",
       "</g>\n",
       "\n",
       "<g class=\"displacy-arrow\">\n",
       "    <path class=\"displacy-arc\" id=\"arrow-3195bbb9fb58419b9147e4cd97f0574c-0-1\" stroke-width=\"2px\" d=\"M420,264.5 C420,177.0 565.0,177.0 565.0,264.5\" fill=\"none\" stroke=\"currentColor\"/>\n",
       "    <text dy=\"1.25em\" style=\"font-size: 0.8em; letter-spacing: 1px\">\n",
       "        <textPath xlink:href=\"#arrow-3195bbb9fb58419b9147e4cd97f0574c-0-1\" class=\"displacy-label\" startOffset=\"50%\" side=\"left\" fill=\"currentColor\" text-anchor=\"middle\">amod</textPath>\n",
       "    </text>\n",
       "    <path class=\"displacy-arrowhead\" d=\"M420,266.5 L412,254.5 428,254.5\" fill=\"currentColor\"/>\n",
       "</g>\n",
       "\n",
       "<g class=\"displacy-arrow\">\n",
       "    <path class=\"displacy-arc\" id=\"arrow-3195bbb9fb58419b9147e4cd97f0574c-0-2\" stroke-width=\"2px\" d=\"M70,264.5 C70,89.5 570.0,89.5 570.0,264.5\" fill=\"none\" stroke=\"currentColor\"/>\n",
       "    <text dy=\"1.25em\" style=\"font-size: 0.8em; letter-spacing: 1px\">\n",
       "        <textPath xlink:href=\"#arrow-3195bbb9fb58419b9147e4cd97f0574c-0-2\" class=\"displacy-label\" startOffset=\"50%\" side=\"left\" fill=\"currentColor\" text-anchor=\"middle\">appos</textPath>\n",
       "    </text>\n",
       "    <path class=\"displacy-arrowhead\" d=\"M570.0,266.5 L578.0,254.5 562.0,254.5\" fill=\"currentColor\"/>\n",
       "</g>\n",
       "\n",
       "<g class=\"displacy-arrow\">\n",
       "    <path class=\"displacy-arc\" id=\"arrow-3195bbb9fb58419b9147e4cd97f0574c-0-3\" stroke-width=\"2px\" d=\"M70,264.5 C70,2.0 750.0,2.0 750.0,264.5\" fill=\"none\" stroke=\"currentColor\"/>\n",
       "    <text dy=\"1.25em\" style=\"font-size: 0.8em; letter-spacing: 1px\">\n",
       "        <textPath xlink:href=\"#arrow-3195bbb9fb58419b9147e4cd97f0574c-0-3\" class=\"displacy-label\" startOffset=\"50%\" side=\"left\" fill=\"currentColor\" text-anchor=\"middle\">amod</textPath>\n",
       "    </text>\n",
       "    <path class=\"displacy-arrowhead\" d=\"M750.0,266.5 L758.0,254.5 742.0,254.5\" fill=\"currentColor\"/>\n",
       "</g>\n",
       "</svg></span>"
      ],
      "text/plain": [
       "<IPython.core.display.HTML object>"
      ]
     },
     "metadata": {},
     "output_type": "display_data"
    }
   ],
   "source": [
    "sampleSentence = \"food outstanding little perk great\"\n",
    "sampleDoc = nlp(sampleSentence)\n",
    "displacy.render(sampleDoc, style='dep', jupyter=True)"
   ]
  },
  {
   "cell_type": "code",
   "execution_count": 24,
   "id": "ae09fa56",
   "metadata": {},
   "outputs": [
    {
     "name": "stdout",
     "output_type": "stream",
     "text": [
      "outstanding\n",
      "perk\n",
      "great\n"
     ]
    }
   ],
   "source": [
    "# Rule 1 - All childrens of aspect term\n",
    "for token in sampleDoc:\n",
    "    if token.text in [\"food\"]:\n",
    "        for child in token.children:\n",
    "            print(child)"
   ]
  },
  {
   "cell_type": "markdown",
   "id": "c0b9ee0c",
   "metadata": {},
   "source": [
    "<h3 style = \"font-size:60px; font-family:Garamond ; font-weight : normal; background-color: #f6f5f5 ; color : #fe346e; text-align: center; border-radius: 100px 100px;\">Rule 1</h3>\n",
    "\n",
    "<h4 style=\"font-size:25px; font-family:Garamond ; font-weight : normal; background-color: #f6f5f5 ; color : #fe346e; border-radius: 30px 30px\">\n",
    " <br>\n",
    "    <ol>1. Considering all childrens of topic including nouns and adjectives</ol>\n",
    "</h4>"
   ]
  },
  {
   "cell_type": "code",
   "execution_count": 25,
   "id": "8bdb59c5",
   "metadata": {},
   "outputs": [],
   "source": [
    "class CustomRule1:\n",
    "    def __init__(self, dataset, positive_words, negative_words):\n",
    "        self.pred_polarity_list = []\n",
    "        self.sentences = dataset.text.to_list()\n",
    "        self.terms = dataset.term.to_list()\n",
    "        self.positive_words = positive_words\n",
    "        self.negative_words = negative_words\n",
    "    \n",
    "    def calculatePredictedPolarities(self):\n",
    "        for idx, sentence in enumerate(self.sentences):\n",
    "            doc = nlp(sentence)\n",
    "            for token in doc:\n",
    "                if token.text in self.terms[idx].split():\n",
    "                    head_rel = token.head.children\n",
    "                    for child in head_rel:\n",
    "                        if child.text in self.positive_words:\n",
    "                            pred = \"positive\"\n",
    "                        elif child.text in self.negative_words:\n",
    "                            pred = \"negative\"\n",
    "                        else:\n",
    "                            pred = \"neutral\"\n",
    "            self.pred_polarity_list.append(pred)\n",
    "        return self.pred_polarity_list\n",
    "    \n",
    "    def calculatePredictedPolaritiesByCount(self):\n",
    "        self.pred_polarity_list = []\n",
    "        for idx, sentence in enumerate(self.sentences):\n",
    "            doc = nlp(sentence)\n",
    "            positive_counts = 0\n",
    "            negative_counts = 0\n",
    "            neutral_counts = 0\n",
    "            for token in doc:\n",
    "                if token.text in self.terms[idx].split():\n",
    "                    head_rel = token.head.children\n",
    "                    for child in head_rel:\n",
    "                        if child.text in self.positive_words:\n",
    "                            positive_counts += 1\n",
    "                        elif child.text in self.negative_words:\n",
    "                            negative_counts += 1\n",
    "                        else:\n",
    "                            neutral_counts += 1\n",
    "            if positive_counts > negative_counts:\n",
    "                if positive_counts > neutral_counts:\n",
    "                    self.pred_polarity_list.append(\"positive\")\n",
    "                else:\n",
    "                    self.pred_polarity_list.append(\"neutral\")\n",
    "            else:\n",
    "                if negative_counts > neutral_counts:\n",
    "                    self.pred_polarity_list.append(\"negative\")\n",
    "                else:\n",
    "                    self.pred_polarity_list.append(\"neutral\")\n",
    "        return self.pred_polarity_list"
   ]
  },
  {
   "cell_type": "code",
   "execution_count": 26,
   "id": "df589a70",
   "metadata": {},
   "outputs": [],
   "source": [
    "cr1Instance = CustomRule1(dataset, positive_list, negative_list)\n",
    "dataset[\"pred_polarity\"] = cr1Instance.calculatePredictedPolarities()"
   ]
  },
  {
   "cell_type": "code",
   "execution_count": 27,
   "id": "aa5a7996",
   "metadata": {},
   "outputs": [],
   "source": [
    "# Without stopwords removal and doing count gives 296 entries out of 1896 entries\n",
    "# with stopwords removal and doing count gives 374 entries out of 1896 entries\n",
    "# with stop words removal and doing no count gives 530 entries\n",
    "# without stop words removal and doing no count gives 476 entries"
   ]
  },
  {
   "cell_type": "markdown",
   "id": "bce48860",
   "metadata": {},
   "source": [
    "<h3 style = \"font-size:60px; font-family:Garamond ; font-weight : normal; background-color: #f6f5f5 ; color : #fe346e; text-align: center; border-radius: 100px 100px;\">Performance Evaluation</h3>"
   ]
  },
  {
   "cell_type": "code",
   "execution_count": 28,
   "id": "9e6fb0b7",
   "metadata": {},
   "outputs": [],
   "source": [
    "class CustomPerformanceEvaluation:\n",
    "    def __init__(self, dataset):\n",
    "        self.actualPolarity = dataset.polarity.to_list()\n",
    "        self.predictedPolarity = dataset.pred_polarity.to_list()\n",
    "        self.precision = 0\n",
    "        self.recall = 0\n",
    "    \n",
    "    def calculateTruePositive(self, label):\n",
    "        count = 0\n",
    "        for idx in range(len(self.actualPolarity)):\n",
    "            if (self.actualPolarity[idx] == label) and (self.predictedPolarity[idx] == label):\n",
    "                count += 1\n",
    "        return count\n",
    "    \n",
    "    def calculateTrueNegative(self, label):\n",
    "        count = 0\n",
    "        for idx in range(len(self.actualPolarity)):\n",
    "            if (self.actualPolarity[idx] != label) and (self.predictedPolarity[idx] != label):\n",
    "                count += 1\n",
    "        return count\n",
    "    \n",
    "    def calculateFalsePositive(self, label):\n",
    "        count = 0\n",
    "        for idx in range(len(self.actualPolarity)):\n",
    "            if (self.actualPolarity[idx] != label) and (self.predictedPolarity[idx] == label):\n",
    "                count += 1\n",
    "        return count\n",
    "    \n",
    "    def calculateFalseNegative(self, label):\n",
    "        count = 0\n",
    "        for idx in range(len(self.actualPolarity)):\n",
    "            if (self.actualPolarity[idx] == label) and (self.predictedPolarity[idx] != label):\n",
    "                count += 1\n",
    "        return count\n",
    "    \n",
    "    def calculatePrecision(self, truePositive, falsePositive):\n",
    "        self.precision = truePositive / (truePositive + falsePositive)\n",
    "        return self.precision\n",
    "    \n",
    "    def calculateRecall(self, truePositive, falseNegative):\n",
    "        self.recall = truePositive / (truePositive + falseNegative)\n",
    "        return self.recall\n",
    "    \n",
    "    def calculateF1Score(self):\n",
    "        return (2 * self.precision * self.recall) / (self.precision + self.recall)\n",
    "        "
   ]
  },
  {
   "cell_type": "markdown",
   "id": "f29ac7a0",
   "metadata": {},
   "source": [
    "<h3 style = \"font-size:60px; font-family:Garamond ; font-weight : normal; background-color: #f6f5f5 ; color : #fe346e; text-align: center; border-radius: 100px 100px;\">Positive Sentiment</h3>"
   ]
  },
  {
   "cell_type": "code",
   "execution_count": 29,
   "id": "b37ce748",
   "metadata": {},
   "outputs": [],
   "source": [
    "positiveInstance = CustomPerformanceEvaluation(dataset)\n",
    "truePositive = positiveInstance.calculateTruePositive(\"positive\")\n",
    "trueNegative = positiveInstance.calculateTrueNegative(\"positive\")\n",
    "falsePositive = positiveInstance.calculateFalsePositive(\"positive\")\n",
    "falseNegative = positiveInstance.calculateFalseNegative(\"positive\")"
   ]
  },
  {
   "cell_type": "code",
   "execution_count": 30,
   "id": "e3beddc5",
   "metadata": {},
   "outputs": [],
   "source": [
    "precision = positiveInstance.calculatePrecision(truePositive, falsePositive)\n",
    "recall = positiveInstance.calculateRecall(truePositive, falseNegative)\n",
    "f1Score = positiveInstance.calculateF1Score()"
   ]
  },
  {
   "cell_type": "code",
   "execution_count": 31,
   "id": "5b8df814",
   "metadata": {},
   "outputs": [
    {
     "name": "stdout",
     "output_type": "stream",
     "text": [
      "Precision: 0.8367952522255193\n",
      "Recall: 0.23228995057660626\n",
      "F1 Score: 0.36363636363636365\n"
     ]
    }
   ],
   "source": [
    "print(f\"Precision: {precision}\")\n",
    "print(f\"Recall: {recall}\")\n",
    "print(f\"F1 Score: {f1Score}\")"
   ]
  },
  {
   "cell_type": "markdown",
   "id": "4cfdf810",
   "metadata": {},
   "source": [
    "<h3 style = \"font-size:60px; font-family:Garamond ; font-weight : normal; background-color: #f6f5f5 ; color : #fe346e; text-align: center; border-radius: 100px 100px;\">Negative Sentiment</h3>"
   ]
  },
  {
   "cell_type": "code",
   "execution_count": 32,
   "id": "349f501f",
   "metadata": {},
   "outputs": [],
   "source": [
    "negativeInstance = CustomPerformanceEvaluation(dataset)\n",
    "truePositive = negativeInstance.calculateTruePositive(\"negative\")\n",
    "trueNegative = negativeInstance.calculateTrueNegative(\"negative\")\n",
    "falsePositive = negativeInstance.calculateFalsePositive(\"negative\")\n",
    "falseNegative = negativeInstance.calculateFalseNegative(\"negative\")"
   ]
  },
  {
   "cell_type": "code",
   "execution_count": 33,
   "id": "4a10db12",
   "metadata": {},
   "outputs": [],
   "source": [
    "precision = negativeInstance.calculatePrecision(truePositive, falsePositive)\n",
    "recall = negativeInstance.calculateRecall(truePositive, falseNegative)\n",
    "f1Score = negativeInstance.calculateF1Score()"
   ]
  },
  {
   "cell_type": "code",
   "execution_count": 34,
   "id": "5dfdec68",
   "metadata": {},
   "outputs": [
    {
     "name": "stdout",
     "output_type": "stream",
     "text": [
      "Precision: 0.5555555555555556\n",
      "Recall: 0.08027522935779817\n",
      "F1 Score: 0.1402805611222445\n"
     ]
    }
   ],
   "source": [
    "print(f\"Precision: {precision}\")\n",
    "print(f\"Recall: {recall}\")\n",
    "print(f\"F1 Score: {f1Score}\")"
   ]
  },
  {
   "cell_type": "markdown",
   "id": "6f8186ed",
   "metadata": {},
   "source": [
    "<h3 style = \"font-size:60px; font-family:Garamond ; font-weight : normal; background-color: #f6f5f5 ; color : #fe346e; text-align: center; border-radius: 100px 100px;\">Neutral Sentiment</h3>"
   ]
  },
  {
   "cell_type": "code",
   "execution_count": 35,
   "id": "c65f2974",
   "metadata": {},
   "outputs": [],
   "source": [
    "neutralInstance = CustomPerformanceEvaluation(dataset)\n",
    "truePositive = neutralInstance.calculateTruePositive(\"neutral\")\n",
    "trueNegative = neutralInstance.calculateTrueNegative(\"neutral\")\n",
    "falsePositive = neutralInstance.calculateFalsePositive(\"neutral\")\n",
    "falseNegative = neutralInstance.calculateFalseNegative(\"neutral\")"
   ]
  },
  {
   "cell_type": "code",
   "execution_count": 36,
   "id": "cc90b87b",
   "metadata": {},
   "outputs": [],
   "source": [
    "precision = neutralInstance.calculatePrecision(truePositive, falsePositive)\n",
    "recall = neutralInstance.calculateRecall(truePositive, falseNegative)\n",
    "f1Score = neutralInstance.calculateF1Score()"
   ]
  },
  {
   "cell_type": "code",
   "execution_count": 37,
   "id": "8e3c660c",
   "metadata": {},
   "outputs": [
    {
     "name": "stdout",
     "output_type": "stream",
     "text": [
      "Precision: 0.1773049645390071\n",
      "Recall: 0.9136212624584718\n",
      "F1 Score: 0.296976241900648\n"
     ]
    }
   ],
   "source": [
    "print(f\"Precision: {precision}\")\n",
    "print(f\"Recall: {recall}\")\n",
    "print(f\"F1 Score: {f1Score}\")"
   ]
  },
  {
   "cell_type": "code",
   "execution_count": 38,
   "id": "7b2b944c",
   "metadata": {},
   "outputs": [],
   "source": [
    "# 1st rule - all children including adjectives and nouns\n",
    "# 2nd rule - all adjectives of the topic\n",
    "# 3rd rule - all nouns of the topic\n",
    "# 4th rule - all nouns adjectives of the topic"
   ]
  },
  {
   "cell_type": "markdown",
   "id": "5bed55f1",
   "metadata": {},
   "source": [
    "<h3 style = \"font-size:60px; font-family:Garamond ; font-weight : normal; background-color: #f6f5f5 ; color : #fe346e; text-align: center; border-radius: 100px 100px;\">Sample Visualization of Rule 2</h3>"
   ]
  },
  {
   "cell_type": "code",
   "execution_count": 39,
   "id": "690c012b",
   "metadata": {},
   "outputs": [
    {
     "data": {
      "text/html": [
       "<span class=\"tex2jax_ignore\"><svg xmlns=\"http://www.w3.org/2000/svg\" xmlns:xlink=\"http://www.w3.org/1999/xlink\" xml:lang=\"en\" id=\"1d0f718fc84b462c82a386fcc7e488fa-0\" class=\"displacy\" width=\"925\" height=\"399.5\" direction=\"ltr\" style=\"max-width: none; height: 399.5px; color: #000000; background: #ffffff; font-family: Arial; direction: ltr\">\n",
       "<text class=\"displacy-token\" fill=\"currentColor\" text-anchor=\"middle\" y=\"309.5\">\n",
       "    <tspan class=\"displacy-word\" fill=\"currentColor\" x=\"50\">food</tspan>\n",
       "    <tspan class=\"displacy-tag\" dy=\"2em\" fill=\"currentColor\" x=\"50\">NOUN</tspan>\n",
       "</text>\n",
       "\n",
       "<text class=\"displacy-token\" fill=\"currentColor\" text-anchor=\"middle\" y=\"309.5\">\n",
       "    <tspan class=\"displacy-word\" fill=\"currentColor\" x=\"225\">outstanding</tspan>\n",
       "    <tspan class=\"displacy-tag\" dy=\"2em\" fill=\"currentColor\" x=\"225\">ADJ</tspan>\n",
       "</text>\n",
       "\n",
       "<text class=\"displacy-token\" fill=\"currentColor\" text-anchor=\"middle\" y=\"309.5\">\n",
       "    <tspan class=\"displacy-word\" fill=\"currentColor\" x=\"400\">little</tspan>\n",
       "    <tspan class=\"displacy-tag\" dy=\"2em\" fill=\"currentColor\" x=\"400\">ADJ</tspan>\n",
       "</text>\n",
       "\n",
       "<text class=\"displacy-token\" fill=\"currentColor\" text-anchor=\"middle\" y=\"309.5\">\n",
       "    <tspan class=\"displacy-word\" fill=\"currentColor\" x=\"575\">perk</tspan>\n",
       "    <tspan class=\"displacy-tag\" dy=\"2em\" fill=\"currentColor\" x=\"575\">NOUN</tspan>\n",
       "</text>\n",
       "\n",
       "<text class=\"displacy-token\" fill=\"currentColor\" text-anchor=\"middle\" y=\"309.5\">\n",
       "    <tspan class=\"displacy-word\" fill=\"currentColor\" x=\"750\">great</tspan>\n",
       "    <tspan class=\"displacy-tag\" dy=\"2em\" fill=\"currentColor\" x=\"750\">ADJ</tspan>\n",
       "</text>\n",
       "\n",
       "<g class=\"displacy-arrow\">\n",
       "    <path class=\"displacy-arc\" id=\"arrow-1d0f718fc84b462c82a386fcc7e488fa-0-0\" stroke-width=\"2px\" d=\"M70,264.5 C70,177.0 215.0,177.0 215.0,264.5\" fill=\"none\" stroke=\"currentColor\"/>\n",
       "    <text dy=\"1.25em\" style=\"font-size: 0.8em; letter-spacing: 1px\">\n",
       "        <textPath xlink:href=\"#arrow-1d0f718fc84b462c82a386fcc7e488fa-0-0\" class=\"displacy-label\" startOffset=\"50%\" side=\"left\" fill=\"currentColor\" text-anchor=\"middle\">amod</textPath>\n",
       "    </text>\n",
       "    <path class=\"displacy-arrowhead\" d=\"M215.0,266.5 L223.0,254.5 207.0,254.5\" fill=\"currentColor\"/>\n",
       "</g>\n",
       "\n",
       "<g class=\"displacy-arrow\">\n",
       "    <path class=\"displacy-arc\" id=\"arrow-1d0f718fc84b462c82a386fcc7e488fa-0-1\" stroke-width=\"2px\" d=\"M420,264.5 C420,177.0 565.0,177.0 565.0,264.5\" fill=\"none\" stroke=\"currentColor\"/>\n",
       "    <text dy=\"1.25em\" style=\"font-size: 0.8em; letter-spacing: 1px\">\n",
       "        <textPath xlink:href=\"#arrow-1d0f718fc84b462c82a386fcc7e488fa-0-1\" class=\"displacy-label\" startOffset=\"50%\" side=\"left\" fill=\"currentColor\" text-anchor=\"middle\">amod</textPath>\n",
       "    </text>\n",
       "    <path class=\"displacy-arrowhead\" d=\"M420,266.5 L412,254.5 428,254.5\" fill=\"currentColor\"/>\n",
       "</g>\n",
       "\n",
       "<g class=\"displacy-arrow\">\n",
       "    <path class=\"displacy-arc\" id=\"arrow-1d0f718fc84b462c82a386fcc7e488fa-0-2\" stroke-width=\"2px\" d=\"M70,264.5 C70,89.5 570.0,89.5 570.0,264.5\" fill=\"none\" stroke=\"currentColor\"/>\n",
       "    <text dy=\"1.25em\" style=\"font-size: 0.8em; letter-spacing: 1px\">\n",
       "        <textPath xlink:href=\"#arrow-1d0f718fc84b462c82a386fcc7e488fa-0-2\" class=\"displacy-label\" startOffset=\"50%\" side=\"left\" fill=\"currentColor\" text-anchor=\"middle\">appos</textPath>\n",
       "    </text>\n",
       "    <path class=\"displacy-arrowhead\" d=\"M570.0,266.5 L578.0,254.5 562.0,254.5\" fill=\"currentColor\"/>\n",
       "</g>\n",
       "\n",
       "<g class=\"displacy-arrow\">\n",
       "    <path class=\"displacy-arc\" id=\"arrow-1d0f718fc84b462c82a386fcc7e488fa-0-3\" stroke-width=\"2px\" d=\"M70,264.5 C70,2.0 750.0,2.0 750.0,264.5\" fill=\"none\" stroke=\"currentColor\"/>\n",
       "    <text dy=\"1.25em\" style=\"font-size: 0.8em; letter-spacing: 1px\">\n",
       "        <textPath xlink:href=\"#arrow-1d0f718fc84b462c82a386fcc7e488fa-0-3\" class=\"displacy-label\" startOffset=\"50%\" side=\"left\" fill=\"currentColor\" text-anchor=\"middle\">amod</textPath>\n",
       "    </text>\n",
       "    <path class=\"displacy-arrowhead\" d=\"M750.0,266.5 L758.0,254.5 742.0,254.5\" fill=\"currentColor\"/>\n",
       "</g>\n",
       "</svg></span>"
      ],
      "text/plain": [
       "<IPython.core.display.HTML object>"
      ]
     },
     "metadata": {},
     "output_type": "display_data"
    }
   ],
   "source": [
    "sampleSentence = \"food outstanding little perk great\"\n",
    "sampleDoc = nlp(sampleSentence)\n",
    "displacy.render(sampleDoc, style='dep', jupyter=True)"
   ]
  },
  {
   "cell_type": "code",
   "execution_count": 40,
   "id": "751cc655",
   "metadata": {},
   "outputs": [
    {
     "name": "stdout",
     "output_type": "stream",
     "text": [
      "All adjectives of the aspect term\n",
      "outstanding\n",
      "great\n"
     ]
    }
   ],
   "source": [
    "print(\"All adjectives of the aspect term\")\n",
    "for token in sampleDoc:\n",
    "    if token.text in [\"food\"]:\n",
    "        for child in token.children:\n",
    "            if child.pos_ == \"ADJ\":\n",
    "                print(child)"
   ]
  },
  {
   "cell_type": "markdown",
   "id": "d10ca8ca",
   "metadata": {},
   "source": [
    "\n",
    "<h3 style = \"font-size:60px; font-family:Garamond ; font-weight : normal; background-color: #f6f5f5 ; color : #fe346e; text-align: center; border-radius: 100px 100px;\">Rule 2</h3>\n",
    "\n",
    "<h4 style=\"font-size:25px; font-family:Garamond ; font-weight : normal; background-color: #f6f5f5 ; color : #fe346e; border-radius: 30px 30px\">\n",
    " <br>\n",
    "    <ol>2. All adjectives of the aspect term</ol>\n",
    "</h4>"
   ]
  },
  {
   "cell_type": "code",
   "execution_count": 41,
   "id": "ffc4c8ce",
   "metadata": {},
   "outputs": [],
   "source": [
    "class CustomRule2:\n",
    "    def __init__(self, dataset, positive_words, negative_words):\n",
    "        self.pred_polarity_list = []\n",
    "        self.sentences = dataset.text.to_list()\n",
    "        self.terms = dataset.term.to_list()\n",
    "        self.positive_words = positive_words\n",
    "        self.negative_words = negative_words\n",
    "    \n",
    "    def calculatePredictedPolarities(self):\n",
    "        for idx, sentence in enumerate(self.sentences):\n",
    "            doc = nlp(sentence)\n",
    "            pred = None\n",
    "            for token in doc:\n",
    "                if token.text in self.terms[idx].split():\n",
    "                    head_rel = token.head.children\n",
    "                    for child in head_rel:\n",
    "                        if child.pos_ == \"ADJ\":\n",
    "                            if child.text in self.positive_words:\n",
    "                                pred = \"positive\"\n",
    "                            elif child.text in self.negative_words:\n",
    "                                pred = \"negative\"\n",
    "                            else:\n",
    "                                pred = \"neutral\"\n",
    "            self.pred_polarity_list.append(pred)\n",
    "        return self.pred_polarity_list\n",
    "    \n",
    "    def calculatePredictedPolaritiesByCount(self):\n",
    "        self.pred_polarity_list = []\n",
    "        for idx, sentence in enumerate(self.sentences):\n",
    "            doc = nlp(sentence)\n",
    "            positive_counts = 0\n",
    "            negative_counts = 0\n",
    "            neutral_counts = 0\n",
    "            for token in doc:\n",
    "                if token.text in self.terms[idx].split():\n",
    "                    head_rel = token.head.children\n",
    "                    for child in head_rel:\n",
    "                        if child.pos_ == \"ADJ\":\n",
    "                            if child.text in self.positive_words:\n",
    "                                positive_counts += 1\n",
    "                            elif child.text in self.negative_words:\n",
    "                                negative_counts += 1\n",
    "                            else:\n",
    "                                neutral_counts += 1\n",
    "            if positive_counts > negative_counts:\n",
    "                if positive_counts > neutral_counts:\n",
    "                    self.pred_polarity_list.append(\"positive\")\n",
    "                else:\n",
    "                    self.pred_polarity_list.append(\"neutral\")\n",
    "            else:\n",
    "                if negative_counts > neutral_counts:\n",
    "                    self.pred_polarity_list.append(\"negative\")\n",
    "                else:\n",
    "                    self.pred_polarity_list.append(\"neutral\")\n",
    "        return self.pred_polarity_list"
   ]
  },
  {
   "cell_type": "code",
   "execution_count": 42,
   "id": "3b321c9c",
   "metadata": {},
   "outputs": [],
   "source": [
    "dataset = dataset.drop(labels=\"pred_polarity\", axis=1)"
   ]
  },
  {
   "cell_type": "code",
   "execution_count": 43,
   "id": "cc90bedb",
   "metadata": {},
   "outputs": [],
   "source": [
    "cr2Instance = CustomRule2(dataset, positive_list, negative_list)\n",
    "dataset[\"pred_polarity\"] = cr2Instance.calculatePredictedPolarities()"
   ]
  },
  {
   "cell_type": "markdown",
   "id": "08893f87",
   "metadata": {},
   "source": [
    "<h3 style = \"font-size:60px; font-family:Garamond ; font-weight : normal; background-color: #f6f5f5 ; color : #fe346e; text-align: center; border-radius: 100px 100px;\">Performance Evaluation</h3>"
   ]
  },
  {
   "cell_type": "markdown",
   "id": "d1e11167",
   "metadata": {},
   "source": [
    "<h3 style = \"font-size:60px; font-family:Garamond ; font-weight : normal; background-color: #f6f5f5 ; color : #fe346e; text-align: center; border-radius: 100px 100px;\">Positive Sentiment</h3>"
   ]
  },
  {
   "cell_type": "code",
   "execution_count": 44,
   "id": "34f52bf2",
   "metadata": {},
   "outputs": [],
   "source": [
    "positiveInstance = CustomPerformanceEvaluation(dataset)\n",
    "truePositive = positiveInstance.calculateTruePositive(\"positive\")\n",
    "trueNegative = positiveInstance.calculateTrueNegative(\"positive\")\n",
    "falsePositive = positiveInstance.calculateFalsePositive(\"positive\")\n",
    "falseNegative = positiveInstance.calculateFalseNegative(\"positive\")"
   ]
  },
  {
   "cell_type": "code",
   "execution_count": 45,
   "id": "b65ada9c",
   "metadata": {},
   "outputs": [],
   "source": [
    "precision = positiveInstance.calculatePrecision(truePositive, falsePositive)\n",
    "recall = positiveInstance.calculateRecall(truePositive, falseNegative)\n",
    "f1Score = positiveInstance.calculateF1Score()"
   ]
  },
  {
   "cell_type": "code",
   "execution_count": 46,
   "id": "f809f6c5",
   "metadata": {},
   "outputs": [
    {
     "name": "stdout",
     "output_type": "stream",
     "text": [
      "Precision: 0.8697788697788698\n",
      "Recall: 0.2915980230642504\n",
      "F1 Score: 0.43676742751388037\n"
     ]
    }
   ],
   "source": [
    "print(f\"Precision: {precision}\")\n",
    "print(f\"Recall: {recall}\")\n",
    "print(f\"F1 Score: {f1Score}\")"
   ]
  },
  {
   "cell_type": "markdown",
   "id": "b724e009",
   "metadata": {},
   "source": [
    "<h3 style = \"font-size:60px; font-family:Garamond ; font-weight : normal; background-color: #f6f5f5 ; color : #fe346e; text-align: center; border-radius: 100px 100px;\">Negative Sentiment</h3>"
   ]
  },
  {
   "cell_type": "code",
   "execution_count": 47,
   "id": "e8c67f7c",
   "metadata": {},
   "outputs": [],
   "source": [
    "negativeInstance = CustomPerformanceEvaluation(dataset)\n",
    "truePositive = negativeInstance.calculateTruePositive(\"negative\")\n",
    "trueNegative = negativeInstance.calculateTrueNegative(\"negative\")\n",
    "falsePositive = negativeInstance.calculateFalsePositive(\"negative\")\n",
    "falseNegative = negativeInstance.calculateFalseNegative(\"negative\")"
   ]
  },
  {
   "cell_type": "code",
   "execution_count": 48,
   "id": "fc62baf6",
   "metadata": {},
   "outputs": [],
   "source": [
    "precision = negativeInstance.calculatePrecision(truePositive, falsePositive)\n",
    "recall = negativeInstance.calculateRecall(truePositive, falseNegative)\n",
    "f1Score = negativeInstance.calculateF1Score()"
   ]
  },
  {
   "cell_type": "code",
   "execution_count": 49,
   "id": "3d5c6c92",
   "metadata": {},
   "outputs": [
    {
     "name": "stdout",
     "output_type": "stream",
     "text": [
      "Precision: 0.6818181818181818\n",
      "Recall: 0.10321100917431193\n",
      "F1 Score: 0.17928286852589642\n"
     ]
    }
   ],
   "source": [
    "print(f\"Precision: {precision}\")\n",
    "print(f\"Recall: {recall}\")\n",
    "print(f\"F1 Score: {f1Score}\")"
   ]
  },
  {
   "cell_type": "markdown",
   "id": "77ee0e97",
   "metadata": {},
   "source": [
    "<h3 style = \"font-size:60px; font-family:Garamond ; font-weight : normal; background-color: #f6f5f5 ; color : #fe346e; text-align: center; border-radius: 100px 100px;\">Neutral Sentiment</h3>"
   ]
  },
  {
   "cell_type": "code",
   "execution_count": 50,
   "id": "af424bb8",
   "metadata": {},
   "outputs": [],
   "source": [
    "neutralInstance = CustomPerformanceEvaluation(dataset)\n",
    "truePositive = neutralInstance.calculateTruePositive(\"neutral\")\n",
    "trueNegative = neutralInstance.calculateTrueNegative(\"neutral\")\n",
    "falsePositive = neutralInstance.calculateFalsePositive(\"neutral\")\n",
    "falseNegative = neutralInstance.calculateFalseNegative(\"neutral\")"
   ]
  },
  {
   "cell_type": "code",
   "execution_count": 51,
   "id": "ab51392f",
   "metadata": {},
   "outputs": [],
   "source": [
    "precision = neutralInstance.calculatePrecision(truePositive, falsePositive)\n",
    "recall = neutralInstance.calculateRecall(truePositive, falseNegative)\n",
    "f1Score = neutralInstance.calculateF1Score()"
   ]
  },
  {
   "cell_type": "code",
   "execution_count": 52,
   "id": "88ff00c9",
   "metadata": {},
   "outputs": [
    {
     "name": "stdout",
     "output_type": "stream",
     "text": [
      "Precision: 0.15925925925925927\n",
      "Recall: 0.14285714285714285\n",
      "F1 Score: 0.15061295971978983\n"
     ]
    }
   ],
   "source": [
    "print(f\"Precision: {precision}\")\n",
    "print(f\"Recall: {recall}\")\n",
    "print(f\"F1 Score: {f1Score}\")"
   ]
  },
  {
   "cell_type": "markdown",
   "id": "6eced81d",
   "metadata": {},
   "source": [
    "<h3 style = \"font-size:60px; font-family:Garamond ; font-weight : normal; background-color: #f6f5f5 ; color : #fe346e; text-align: center; border-radius: 100px 100px;\">Sample Visualization of Rule 3</h3>"
   ]
  },
  {
   "cell_type": "code",
   "execution_count": 53,
   "id": "78f2e01f",
   "metadata": {},
   "outputs": [
    {
     "data": {
      "text/html": [
       "<span class=\"tex2jax_ignore\"><svg xmlns=\"http://www.w3.org/2000/svg\" xmlns:xlink=\"http://www.w3.org/1999/xlink\" xml:lang=\"en\" id=\"039e304c54c84fc09f0fcc30b63bb796-0\" class=\"displacy\" width=\"925\" height=\"399.5\" direction=\"ltr\" style=\"max-width: none; height: 399.5px; color: #000000; background: #ffffff; font-family: Arial; direction: ltr\">\n",
       "<text class=\"displacy-token\" fill=\"currentColor\" text-anchor=\"middle\" y=\"309.5\">\n",
       "    <tspan class=\"displacy-word\" fill=\"currentColor\" x=\"50\">food</tspan>\n",
       "    <tspan class=\"displacy-tag\" dy=\"2em\" fill=\"currentColor\" x=\"50\">NOUN</tspan>\n",
       "</text>\n",
       "\n",
       "<text class=\"displacy-token\" fill=\"currentColor\" text-anchor=\"middle\" y=\"309.5\">\n",
       "    <tspan class=\"displacy-word\" fill=\"currentColor\" x=\"225\">outstanding</tspan>\n",
       "    <tspan class=\"displacy-tag\" dy=\"2em\" fill=\"currentColor\" x=\"225\">ADJ</tspan>\n",
       "</text>\n",
       "\n",
       "<text class=\"displacy-token\" fill=\"currentColor\" text-anchor=\"middle\" y=\"309.5\">\n",
       "    <tspan class=\"displacy-word\" fill=\"currentColor\" x=\"400\">little</tspan>\n",
       "    <tspan class=\"displacy-tag\" dy=\"2em\" fill=\"currentColor\" x=\"400\">ADJ</tspan>\n",
       "</text>\n",
       "\n",
       "<text class=\"displacy-token\" fill=\"currentColor\" text-anchor=\"middle\" y=\"309.5\">\n",
       "    <tspan class=\"displacy-word\" fill=\"currentColor\" x=\"575\">perk</tspan>\n",
       "    <tspan class=\"displacy-tag\" dy=\"2em\" fill=\"currentColor\" x=\"575\">NOUN</tspan>\n",
       "</text>\n",
       "\n",
       "<text class=\"displacy-token\" fill=\"currentColor\" text-anchor=\"middle\" y=\"309.5\">\n",
       "    <tspan class=\"displacy-word\" fill=\"currentColor\" x=\"750\">great</tspan>\n",
       "    <tspan class=\"displacy-tag\" dy=\"2em\" fill=\"currentColor\" x=\"750\">ADJ</tspan>\n",
       "</text>\n",
       "\n",
       "<g class=\"displacy-arrow\">\n",
       "    <path class=\"displacy-arc\" id=\"arrow-039e304c54c84fc09f0fcc30b63bb796-0-0\" stroke-width=\"2px\" d=\"M70,264.5 C70,177.0 215.0,177.0 215.0,264.5\" fill=\"none\" stroke=\"currentColor\"/>\n",
       "    <text dy=\"1.25em\" style=\"font-size: 0.8em; letter-spacing: 1px\">\n",
       "        <textPath xlink:href=\"#arrow-039e304c54c84fc09f0fcc30b63bb796-0-0\" class=\"displacy-label\" startOffset=\"50%\" side=\"left\" fill=\"currentColor\" text-anchor=\"middle\">amod</textPath>\n",
       "    </text>\n",
       "    <path class=\"displacy-arrowhead\" d=\"M215.0,266.5 L223.0,254.5 207.0,254.5\" fill=\"currentColor\"/>\n",
       "</g>\n",
       "\n",
       "<g class=\"displacy-arrow\">\n",
       "    <path class=\"displacy-arc\" id=\"arrow-039e304c54c84fc09f0fcc30b63bb796-0-1\" stroke-width=\"2px\" d=\"M420,264.5 C420,177.0 565.0,177.0 565.0,264.5\" fill=\"none\" stroke=\"currentColor\"/>\n",
       "    <text dy=\"1.25em\" style=\"font-size: 0.8em; letter-spacing: 1px\">\n",
       "        <textPath xlink:href=\"#arrow-039e304c54c84fc09f0fcc30b63bb796-0-1\" class=\"displacy-label\" startOffset=\"50%\" side=\"left\" fill=\"currentColor\" text-anchor=\"middle\">amod</textPath>\n",
       "    </text>\n",
       "    <path class=\"displacy-arrowhead\" d=\"M420,266.5 L412,254.5 428,254.5\" fill=\"currentColor\"/>\n",
       "</g>\n",
       "\n",
       "<g class=\"displacy-arrow\">\n",
       "    <path class=\"displacy-arc\" id=\"arrow-039e304c54c84fc09f0fcc30b63bb796-0-2\" stroke-width=\"2px\" d=\"M70,264.5 C70,89.5 570.0,89.5 570.0,264.5\" fill=\"none\" stroke=\"currentColor\"/>\n",
       "    <text dy=\"1.25em\" style=\"font-size: 0.8em; letter-spacing: 1px\">\n",
       "        <textPath xlink:href=\"#arrow-039e304c54c84fc09f0fcc30b63bb796-0-2\" class=\"displacy-label\" startOffset=\"50%\" side=\"left\" fill=\"currentColor\" text-anchor=\"middle\">appos</textPath>\n",
       "    </text>\n",
       "    <path class=\"displacy-arrowhead\" d=\"M570.0,266.5 L578.0,254.5 562.0,254.5\" fill=\"currentColor\"/>\n",
       "</g>\n",
       "\n",
       "<g class=\"displacy-arrow\">\n",
       "    <path class=\"displacy-arc\" id=\"arrow-039e304c54c84fc09f0fcc30b63bb796-0-3\" stroke-width=\"2px\" d=\"M70,264.5 C70,2.0 750.0,2.0 750.0,264.5\" fill=\"none\" stroke=\"currentColor\"/>\n",
       "    <text dy=\"1.25em\" style=\"font-size: 0.8em; letter-spacing: 1px\">\n",
       "        <textPath xlink:href=\"#arrow-039e304c54c84fc09f0fcc30b63bb796-0-3\" class=\"displacy-label\" startOffset=\"50%\" side=\"left\" fill=\"currentColor\" text-anchor=\"middle\">amod</textPath>\n",
       "    </text>\n",
       "    <path class=\"displacy-arrowhead\" d=\"M750.0,266.5 L758.0,254.5 742.0,254.5\" fill=\"currentColor\"/>\n",
       "</g>\n",
       "</svg></span>"
      ],
      "text/plain": [
       "<IPython.core.display.HTML object>"
      ]
     },
     "metadata": {},
     "output_type": "display_data"
    }
   ],
   "source": [
    "sampleSentence = \"food outstanding little perk great\"\n",
    "sampleDoc = nlp(sampleSentence)\n",
    "displacy.render(sampleDoc, style='dep', jupyter=True)"
   ]
  },
  {
   "cell_type": "code",
   "execution_count": 54,
   "id": "ea683515",
   "metadata": {},
   "outputs": [
    {
     "name": "stdout",
     "output_type": "stream",
     "text": [
      "All nouns of the aspect term\n",
      "perk\n"
     ]
    }
   ],
   "source": [
    "print(\"All nouns of the aspect term\")\n",
    "for token in sampleDoc:\n",
    "    if token.text in [\"food\"]:\n",
    "        for child in token.children:\n",
    "            if child.pos_ == \"NOUN\":\n",
    "                print(child)"
   ]
  },
  {
   "cell_type": "markdown",
   "id": "f0c0b9fa",
   "metadata": {},
   "source": [
    "<h3 style = \"font-size:60px; font-family:Garamond ; font-weight : normal; background-color: #f6f5f5 ; color : #fe346e; text-align: center; border-radius: 100px 100px;\">Rule 3</h3>\n",
    "\n",
    "<h4 style=\"font-size:25px; font-family:Garamond ; font-weight : normal; background-color: #f6f5f5 ; color : #fe346e; border-radius: 30px 30px\">\n",
    " <br>\n",
    "    <ol>3. All nouns of the aspect term</ol>\n",
    "</h4>"
   ]
  },
  {
   "cell_type": "code",
   "execution_count": 55,
   "id": "f0f898c4",
   "metadata": {},
   "outputs": [],
   "source": [
    "class CustomRule3:\n",
    "    def __init__(self, dataset, positive_words, negative_words):\n",
    "        self.pred_polarity_list = []\n",
    "        self.sentences = dataset.text.to_list()\n",
    "        self.terms = dataset.term.to_list()\n",
    "        self.positive_words = positive_words\n",
    "        self.negative_words = negative_words\n",
    "    \n",
    "    def calculatePredictedPolarities(self):\n",
    "        for idx, sentence in enumerate(self.sentences):\n",
    "            doc = nlp(sentence)\n",
    "            pred = None\n",
    "            for token in doc:\n",
    "                if token.text in self.terms[idx].split():\n",
    "                    head_rel = token.head.children\n",
    "                    for child in head_rel:\n",
    "                        if child.pos_ == \"NOUN\":\n",
    "                            if child.text in self.positive_words:\n",
    "                                pred = \"positive\"\n",
    "                            elif child.text in self.negative_words:\n",
    "                                pred = \"negative\"\n",
    "                            else:\n",
    "                                pred = \"neutral\"\n",
    "            self.pred_polarity_list.append(pred)\n",
    "        return self.pred_polarity_list\n",
    "    \n",
    "    def calculatePredictedPolaritiesByCount(self):\n",
    "        self.pred_polarity_list = []\n",
    "        for idx, sentence in enumerate(self.sentences):\n",
    "            doc = nlp(sentence)\n",
    "            positive_counts = 0\n",
    "            negative_counts = 0\n",
    "            neutral_counts = 0\n",
    "            for token in doc:\n",
    "                if token.text in self.terms[idx].split():\n",
    "                    head_rel = token.head.children\n",
    "                    for child in head_rel:\n",
    "                        if child.pos_ == \"NOUN\":\n",
    "                            if child.text in self.positive_words:\n",
    "                                positive_counts += 1\n",
    "                            elif child.text in self.negative_words:\n",
    "                                negative_counts += 1\n",
    "                            else:\n",
    "                                neutral_counts += 1\n",
    "            if positive_counts > negative_counts:\n",
    "                if positive_counts > neutral_counts:\n",
    "                    self.pred_polarity_list.append(\"positive\")\n",
    "                else:\n",
    "                    self.pred_polarity_list.append(\"neutral\")\n",
    "            else:\n",
    "                if negative_counts > neutral_counts:\n",
    "                    self.pred_polarity_list.append(\"negative\")\n",
    "                else:\n",
    "                    self.pred_polarity_list.append(\"neutral\")\n",
    "        return self.pred_polarity_list"
   ]
  },
  {
   "cell_type": "code",
   "execution_count": 56,
   "id": "260c8e4c",
   "metadata": {},
   "outputs": [],
   "source": [
    "dataset = dataset.drop(labels=\"pred_polarity\", axis=1)"
   ]
  },
  {
   "cell_type": "code",
   "execution_count": 57,
   "id": "bc4f9e48",
   "metadata": {},
   "outputs": [],
   "source": [
    "cr3Instance = CustomRule3(dataset, positive_list, negative_list)\n",
    "dataset[\"pred_polarity\"] = cr3Instance.calculatePredictedPolarities()"
   ]
  },
  {
   "cell_type": "markdown",
   "id": "b8937cfb",
   "metadata": {},
   "source": [
    "<h3 style = \"font-size:60px; font-family:Garamond ; font-weight : normal; background-color: #f6f5f5 ; color : #fe346e; text-align: center; border-radius: 100px 100px;\">Performance Evaluation</h3>"
   ]
  },
  {
   "cell_type": "markdown",
   "id": "c201287e",
   "metadata": {},
   "source": [
    "<h3 style = \"font-size:60px; font-family:Garamond ; font-weight : normal; background-color: #f6f5f5 ; color : #fe346e; text-align: center; border-radius: 100px 100px;\">Positive Sentiment</h3>"
   ]
  },
  {
   "cell_type": "code",
   "execution_count": 58,
   "id": "5cde5b98",
   "metadata": {},
   "outputs": [],
   "source": [
    "positiveInstance = CustomPerformanceEvaluation(dataset)\n",
    "truePositive = positiveInstance.calculateTruePositive(\"positive\")\n",
    "trueNegative = positiveInstance.calculateTrueNegative(\"positive\")\n",
    "falsePositive = positiveInstance.calculateFalsePositive(\"positive\")\n",
    "falseNegative = positiveInstance.calculateFalseNegative(\"positive\")"
   ]
  },
  {
   "cell_type": "code",
   "execution_count": 59,
   "id": "d077f732",
   "metadata": {},
   "outputs": [],
   "source": [
    "precision = positiveInstance.calculatePrecision(truePositive, falsePositive)\n",
    "recall = positiveInstance.calculateRecall(truePositive, falseNegative)\n",
    "f1Score = positiveInstance.calculateF1Score()"
   ]
  },
  {
   "cell_type": "code",
   "execution_count": 60,
   "id": "a90819aa",
   "metadata": {},
   "outputs": [
    {
     "name": "stdout",
     "output_type": "stream",
     "text": [
      "Precision: 0.8055555555555556\n",
      "Recall: 0.023887973640856673\n",
      "F1 Score: 0.0464\n"
     ]
    }
   ],
   "source": [
    "print(f\"Precision: {precision}\")\n",
    "print(f\"Recall: {recall}\")\n",
    "print(f\"F1 Score: {f1Score}\")"
   ]
  },
  {
   "cell_type": "markdown",
   "id": "b16bc116",
   "metadata": {},
   "source": [
    "<h3 style = \"font-size:60px; font-family:Garamond ; font-weight : normal; background-color: #f6f5f5 ; color : #fe346e; text-align: center; border-radius: 100px 100px;\">Negative Sentiment</h3>"
   ]
  },
  {
   "cell_type": "code",
   "execution_count": 61,
   "id": "71ad62eb",
   "metadata": {},
   "outputs": [],
   "source": [
    "negativeInstance = CustomPerformanceEvaluation(dataset)\n",
    "truePositive = negativeInstance.calculateTruePositive(\"negative\")\n",
    "trueNegative = negativeInstance.calculateTrueNegative(\"negative\")\n",
    "falsePositive = negativeInstance.calculateFalsePositive(\"negative\")\n",
    "falseNegative = negativeInstance.calculateFalseNegative(\"negative\")"
   ]
  },
  {
   "cell_type": "code",
   "execution_count": 62,
   "id": "be1d2e46",
   "metadata": {},
   "outputs": [],
   "source": [
    "precision = negativeInstance.calculatePrecision(truePositive, falsePositive)\n",
    "recall = negativeInstance.calculateRecall(truePositive, falseNegative)\n",
    "f1Score = negativeInstance.calculateF1Score()"
   ]
  },
  {
   "cell_type": "code",
   "execution_count": 63,
   "id": "ecc93532",
   "metadata": {},
   "outputs": [
    {
     "name": "stdout",
     "output_type": "stream",
     "text": [
      "Precision: 0.45\n",
      "Recall: 0.020642201834862386\n",
      "F1 Score: 0.03947368421052632\n"
     ]
    }
   ],
   "source": [
    "print(f\"Precision: {precision}\")\n",
    "print(f\"Recall: {recall}\")\n",
    "print(f\"F1 Score: {f1Score}\")"
   ]
  },
  {
   "cell_type": "markdown",
   "id": "583d17e2",
   "metadata": {},
   "source": [
    "<h3 style = \"font-size:60px; font-family:Garamond ; font-weight : normal; background-color: #f6f5f5 ; color : #fe346e; text-align: center; border-radius: 100px 100px;\">Neutral Sentiment</h3>"
   ]
  },
  {
   "cell_type": "code",
   "execution_count": 64,
   "id": "3b7b6d69",
   "metadata": {},
   "outputs": [],
   "source": [
    "neutralInstance = CustomPerformanceEvaluation(dataset)\n",
    "truePositive = neutralInstance.calculateTruePositive(\"neutral\")\n",
    "trueNegative = neutralInstance.calculateTrueNegative(\"neutral\")\n",
    "falsePositive = neutralInstance.calculateFalsePositive(\"neutral\")\n",
    "falseNegative = neutralInstance.calculateFalseNegative(\"neutral\")"
   ]
  },
  {
   "cell_type": "code",
   "execution_count": 65,
   "id": "0198bd8e",
   "metadata": {},
   "outputs": [],
   "source": [
    "precision = neutralInstance.calculatePrecision(truePositive, falsePositive)\n",
    "recall = neutralInstance.calculateRecall(truePositive, falseNegative)\n",
    "f1Score = neutralInstance.calculateF1Score()"
   ]
  },
  {
   "cell_type": "code",
   "execution_count": 66,
   "id": "cdb6d505",
   "metadata": {},
   "outputs": [
    {
     "name": "stdout",
     "output_type": "stream",
     "text": [
      "Precision: 0.16408876933423\n",
      "Recall: 0.8106312292358804\n",
      "F1 Score: 0.27293064876957496\n"
     ]
    }
   ],
   "source": [
    "print(f\"Precision: {precision}\")\n",
    "print(f\"Recall: {recall}\")\n",
    "print(f\"F1 Score: {f1Score}\")"
   ]
  },
  {
   "cell_type": "markdown",
   "id": "b76a7189",
   "metadata": {},
   "source": [
    "<h3 style = \"font-size:60px; font-family:Garamond ; font-weight : normal; background-color: #f6f5f5 ; color : #fe346e; text-align: center; border-radius: 100px 100px;\">Sample Visualization of Rule 4</h3>"
   ]
  },
  {
   "cell_type": "code",
   "execution_count": 67,
   "id": "f121a681",
   "metadata": {},
   "outputs": [
    {
     "data": {
      "text/html": [
       "<span class=\"tex2jax_ignore\"><svg xmlns=\"http://www.w3.org/2000/svg\" xmlns:xlink=\"http://www.w3.org/1999/xlink\" xml:lang=\"en\" id=\"d79310645420470b951e2ba7af2b1ee9-0\" class=\"displacy\" width=\"925\" height=\"399.5\" direction=\"ltr\" style=\"max-width: none; height: 399.5px; color: #000000; background: #ffffff; font-family: Arial; direction: ltr\">\n",
       "<text class=\"displacy-token\" fill=\"currentColor\" text-anchor=\"middle\" y=\"309.5\">\n",
       "    <tspan class=\"displacy-word\" fill=\"currentColor\" x=\"50\">food</tspan>\n",
       "    <tspan class=\"displacy-tag\" dy=\"2em\" fill=\"currentColor\" x=\"50\">NOUN</tspan>\n",
       "</text>\n",
       "\n",
       "<text class=\"displacy-token\" fill=\"currentColor\" text-anchor=\"middle\" y=\"309.5\">\n",
       "    <tspan class=\"displacy-word\" fill=\"currentColor\" x=\"225\">outstanding</tspan>\n",
       "    <tspan class=\"displacy-tag\" dy=\"2em\" fill=\"currentColor\" x=\"225\">ADJ</tspan>\n",
       "</text>\n",
       "\n",
       "<text class=\"displacy-token\" fill=\"currentColor\" text-anchor=\"middle\" y=\"309.5\">\n",
       "    <tspan class=\"displacy-word\" fill=\"currentColor\" x=\"400\">little</tspan>\n",
       "    <tspan class=\"displacy-tag\" dy=\"2em\" fill=\"currentColor\" x=\"400\">ADJ</tspan>\n",
       "</text>\n",
       "\n",
       "<text class=\"displacy-token\" fill=\"currentColor\" text-anchor=\"middle\" y=\"309.5\">\n",
       "    <tspan class=\"displacy-word\" fill=\"currentColor\" x=\"575\">perk</tspan>\n",
       "    <tspan class=\"displacy-tag\" dy=\"2em\" fill=\"currentColor\" x=\"575\">NOUN</tspan>\n",
       "</text>\n",
       "\n",
       "<text class=\"displacy-token\" fill=\"currentColor\" text-anchor=\"middle\" y=\"309.5\">\n",
       "    <tspan class=\"displacy-word\" fill=\"currentColor\" x=\"750\">great</tspan>\n",
       "    <tspan class=\"displacy-tag\" dy=\"2em\" fill=\"currentColor\" x=\"750\">ADJ</tspan>\n",
       "</text>\n",
       "\n",
       "<g class=\"displacy-arrow\">\n",
       "    <path class=\"displacy-arc\" id=\"arrow-d79310645420470b951e2ba7af2b1ee9-0-0\" stroke-width=\"2px\" d=\"M70,264.5 C70,177.0 215.0,177.0 215.0,264.5\" fill=\"none\" stroke=\"currentColor\"/>\n",
       "    <text dy=\"1.25em\" style=\"font-size: 0.8em; letter-spacing: 1px\">\n",
       "        <textPath xlink:href=\"#arrow-d79310645420470b951e2ba7af2b1ee9-0-0\" class=\"displacy-label\" startOffset=\"50%\" side=\"left\" fill=\"currentColor\" text-anchor=\"middle\">amod</textPath>\n",
       "    </text>\n",
       "    <path class=\"displacy-arrowhead\" d=\"M215.0,266.5 L223.0,254.5 207.0,254.5\" fill=\"currentColor\"/>\n",
       "</g>\n",
       "\n",
       "<g class=\"displacy-arrow\">\n",
       "    <path class=\"displacy-arc\" id=\"arrow-d79310645420470b951e2ba7af2b1ee9-0-1\" stroke-width=\"2px\" d=\"M420,264.5 C420,177.0 565.0,177.0 565.0,264.5\" fill=\"none\" stroke=\"currentColor\"/>\n",
       "    <text dy=\"1.25em\" style=\"font-size: 0.8em; letter-spacing: 1px\">\n",
       "        <textPath xlink:href=\"#arrow-d79310645420470b951e2ba7af2b1ee9-0-1\" class=\"displacy-label\" startOffset=\"50%\" side=\"left\" fill=\"currentColor\" text-anchor=\"middle\">amod</textPath>\n",
       "    </text>\n",
       "    <path class=\"displacy-arrowhead\" d=\"M420,266.5 L412,254.5 428,254.5\" fill=\"currentColor\"/>\n",
       "</g>\n",
       "\n",
       "<g class=\"displacy-arrow\">\n",
       "    <path class=\"displacy-arc\" id=\"arrow-d79310645420470b951e2ba7af2b1ee9-0-2\" stroke-width=\"2px\" d=\"M70,264.5 C70,89.5 570.0,89.5 570.0,264.5\" fill=\"none\" stroke=\"currentColor\"/>\n",
       "    <text dy=\"1.25em\" style=\"font-size: 0.8em; letter-spacing: 1px\">\n",
       "        <textPath xlink:href=\"#arrow-d79310645420470b951e2ba7af2b1ee9-0-2\" class=\"displacy-label\" startOffset=\"50%\" side=\"left\" fill=\"currentColor\" text-anchor=\"middle\">appos</textPath>\n",
       "    </text>\n",
       "    <path class=\"displacy-arrowhead\" d=\"M570.0,266.5 L578.0,254.5 562.0,254.5\" fill=\"currentColor\"/>\n",
       "</g>\n",
       "\n",
       "<g class=\"displacy-arrow\">\n",
       "    <path class=\"displacy-arc\" id=\"arrow-d79310645420470b951e2ba7af2b1ee9-0-3\" stroke-width=\"2px\" d=\"M70,264.5 C70,2.0 750.0,2.0 750.0,264.5\" fill=\"none\" stroke=\"currentColor\"/>\n",
       "    <text dy=\"1.25em\" style=\"font-size: 0.8em; letter-spacing: 1px\">\n",
       "        <textPath xlink:href=\"#arrow-d79310645420470b951e2ba7af2b1ee9-0-3\" class=\"displacy-label\" startOffset=\"50%\" side=\"left\" fill=\"currentColor\" text-anchor=\"middle\">amod</textPath>\n",
       "    </text>\n",
       "    <path class=\"displacy-arrowhead\" d=\"M750.0,266.5 L758.0,254.5 742.0,254.5\" fill=\"currentColor\"/>\n",
       "</g>\n",
       "</svg></span>"
      ],
      "text/plain": [
       "<IPython.core.display.HTML object>"
      ]
     },
     "metadata": {},
     "output_type": "display_data"
    }
   ],
   "source": [
    "sampleSentence = \"food outstanding little perk great\"\n",
    "sampleDoc = nlp(sampleSentence)\n",
    "displacy.render(sampleDoc, style='dep', jupyter=True)"
   ]
  },
  {
   "cell_type": "code",
   "execution_count": 68,
   "id": "712cc120",
   "metadata": {},
   "outputs": [
    {
     "name": "stdout",
     "output_type": "stream",
     "text": [
      "All adjectives of nouns inside the aspect term\n",
      "little\n"
     ]
    }
   ],
   "source": [
    "print(\"All adjectives of nouns inside the aspect term\")\n",
    "for token in sampleDoc:\n",
    "    if token.text in [\"food\"]:\n",
    "        for child in token.children:\n",
    "            if child.pos_ == \"NOUN\":\n",
    "                for grandChild in child.children:\n",
    "                    if grandChild.pos_ == \"ADJ\":\n",
    "                        print(grandChild)"
   ]
  },
  {
   "cell_type": "markdown",
   "id": "fac4f088",
   "metadata": {},
   "source": [
    "<h3 style = \"font-size:60px; font-family:Garamond ; font-weight : normal; background-color: #f6f5f5 ; color : #fe346e; text-align: center; border-radius: 100px 100px;\">Rule 4</h3>\n",
    "\n",
    "<h4 style=\"font-size:25px; font-family:Garamond ; font-weight : normal; background-color: #f6f5f5 ; color : #fe346e; border-radius: 30px 30px\">\n",
    " <br>\n",
    "    <ol>4. All adjectives of nouns inside the aspect term</ol>\n",
    "</h4>"
   ]
  },
  {
   "cell_type": "code",
   "execution_count": 69,
   "id": "b78dc266",
   "metadata": {},
   "outputs": [],
   "source": [
    "class CustomRule4:\n",
    "    def __init__(self, dataset, positive_words, negative_words):\n",
    "        self.pred_polarity_list = []\n",
    "        self.sentences = dataset.text.to_list()\n",
    "        self.terms = dataset.term.to_list()\n",
    "        self.positive_words = positive_words\n",
    "        self.negative_words = negative_words\n",
    "    \n",
    "    def calculatePredictedPolarities(self):\n",
    "        for idx, sentence in enumerate(self.sentences):\n",
    "            doc = nlp(sentence)\n",
    "            pred = None\n",
    "            for token in doc:\n",
    "                if token.text in self.terms[idx].split():\n",
    "                    head_rel = token.head.children\n",
    "                    for child in head_rel:\n",
    "                        if child.pos_ == \"NOUN\":\n",
    "                            for grandChild in child.children:\n",
    "                                if grandChild.pos_ == \"ADJ\":\n",
    "                                    if grandChild.text in self.positive_words:\n",
    "                                        pred = \"positive\"\n",
    "                                    elif grandChild.text in self.negative_words:\n",
    "                                        pred = \"negative\"\n",
    "                                    else:\n",
    "                                        pred = \"neutral\"\n",
    "            self.pred_polarity_list.append(pred)\n",
    "        return self.pred_polarity_list\n",
    "    \n",
    "    def calculatePredictedPolaritiesByCount(self):\n",
    "        self.pred_polarity_list = []\n",
    "        for idx, sentence in enumerate(self.sentences):\n",
    "            doc = nlp(sentence)\n",
    "            positive_counts = 0\n",
    "            negative_counts = 0\n",
    "            neutral_counts = 0\n",
    "            for token in doc:\n",
    "                if token.text in self.terms[idx].split():\n",
    "                    head_rel = token.head.children\n",
    "                    for child in head_rel:\n",
    "                        if child.pos_ == \"NOUN\":\n",
    "                            for grandChild in child.children:\n",
    "                                if grandChild.pos_ == \"ADJ\":\n",
    "                                    if grandChild.text in self.positive_words:\n",
    "                                        positive_counts += 1\n",
    "                                    elif grandChild.text in self.negative_words:\n",
    "                                        negative_counts += 1\n",
    "                                    else:\n",
    "                                        neutral_counts += 1\n",
    "            if positive_counts > negative_counts:\n",
    "                if positive_counts > neutral_counts:\n",
    "                    self.pred_polarity_list.append(\"positive\")\n",
    "                else:\n",
    "                    self.pred_polarity_list.append(\"neutral\")\n",
    "            else:\n",
    "                if negative_counts > neutral_counts:\n",
    "                    self.pred_polarity_list.append(\"negative\")\n",
    "                else:\n",
    "                    self.pred_polarity_list.append(\"neutral\")\n",
    "        return self.pred_polarity_list"
   ]
  },
  {
   "cell_type": "code",
   "execution_count": 70,
   "id": "1a030631",
   "metadata": {},
   "outputs": [],
   "source": [
    "dataset = dataset.drop(labels=\"pred_polarity\", axis=1)"
   ]
  },
  {
   "cell_type": "code",
   "execution_count": 71,
   "id": "d3a871a4",
   "metadata": {},
   "outputs": [],
   "source": [
    "cr4Instance = CustomRule4(dataset, positive_list, negative_list)\n",
    "dataset[\"pred_polarity\"] = cr4Instance.calculatePredictedPolarities()"
   ]
  },
  {
   "cell_type": "markdown",
   "id": "a0171776",
   "metadata": {},
   "source": [
    "\n",
    "<h3 style = \"font-size:60px; font-family:Garamond ; font-weight : normal; background-color: #f6f5f5 ; color : #fe346e; text-align: center; border-radius: 100px 100px;\">Performance Evaluation</h3>"
   ]
  },
  {
   "cell_type": "markdown",
   "id": "d7743ee7",
   "metadata": {},
   "source": [
    "<h3 style = \"font-size:60px; font-family:Garamond ; font-weight : normal; background-color: #f6f5f5 ; color : #fe346e; text-align: center; border-radius: 100px 100px;\">Positive Sentiment</h3>"
   ]
  },
  {
   "cell_type": "code",
   "execution_count": 72,
   "id": "514ed22d",
   "metadata": {},
   "outputs": [],
   "source": [
    "positiveInstance = CustomPerformanceEvaluation(dataset)\n",
    "truePositive = positiveInstance.calculateTruePositive(\"positive\")\n",
    "trueNegative = positiveInstance.calculateTrueNegative(\"positive\")\n",
    "falsePositive = positiveInstance.calculateFalsePositive(\"positive\")\n",
    "falseNegative = positiveInstance.calculateFalseNegative(\"positive\")"
   ]
  },
  {
   "cell_type": "code",
   "execution_count": 73,
   "id": "9d10d40a",
   "metadata": {},
   "outputs": [],
   "source": [
    "precision = positiveInstance.calculatePrecision(truePositive, falsePositive)\n",
    "recall = positiveInstance.calculateRecall(truePositive, falseNegative)\n",
    "f1Score = positiveInstance.calculateF1Score()"
   ]
  },
  {
   "cell_type": "code",
   "execution_count": 74,
   "id": "7bf33d24",
   "metadata": {},
   "outputs": [
    {
     "name": "stdout",
     "output_type": "stream",
     "text": [
      "Precision: 0.7984189723320159\n",
      "Recall: 0.16639209225700163\n",
      "F1 Score: 0.27539195637355146\n"
     ]
    }
   ],
   "source": [
    "print(f\"Precision: {precision}\")\n",
    "print(f\"Recall: {recall}\")\n",
    "print(f\"F1 Score: {f1Score}\")"
   ]
  },
  {
   "cell_type": "markdown",
   "id": "ba8d995c",
   "metadata": {},
   "source": [
    "<h3 style = \"font-size:60px; font-family:Garamond ; font-weight : normal; background-color: #f6f5f5 ; color : #fe346e; text-align: center; border-radius: 100px 100px;\">Negative Sentiment</h3>"
   ]
  },
  {
   "cell_type": "code",
   "execution_count": 75,
   "id": "abf3539e",
   "metadata": {},
   "outputs": [],
   "source": [
    "negativeInstance = CustomPerformanceEvaluation(dataset)\n",
    "truePositive = negativeInstance.calculateTruePositive(\"negative\")\n",
    "trueNegative = negativeInstance.calculateTrueNegative(\"negative\")\n",
    "falsePositive = negativeInstance.calculateFalsePositive(\"negative\")\n",
    "falseNegative = negativeInstance.calculateFalseNegative(\"negative\")"
   ]
  },
  {
   "cell_type": "code",
   "execution_count": 76,
   "id": "9ef341f7",
   "metadata": {},
   "outputs": [],
   "source": [
    "precision = negativeInstance.calculatePrecision(truePositive, falsePositive)\n",
    "recall = negativeInstance.calculateRecall(truePositive, falseNegative)\n",
    "f1Score = negativeInstance.calculateF1Score()"
   ]
  },
  {
   "cell_type": "code",
   "execution_count": 77,
   "id": "27c3e507",
   "metadata": {},
   "outputs": [
    {
     "name": "stdout",
     "output_type": "stream",
     "text": [
      "Precision: 0.65\n",
      "Recall: 0.08944954128440367\n",
      "F1 Score: 0.15725806451612906\n"
     ]
    }
   ],
   "source": [
    "print(f\"Precision: {precision}\")\n",
    "print(f\"Recall: {recall}\")\n",
    "print(f\"F1 Score: {f1Score}\")"
   ]
  },
  {
   "cell_type": "markdown",
   "id": "23b20511",
   "metadata": {},
   "source": [
    "<h3 style = \"font-size:60px; font-family:Garamond ; font-weight : normal; background-color: #f6f5f5 ; color : #fe346e; text-align: center; border-radius: 100px 100px;\">Neutral Sentiment</h3>"
   ]
  },
  {
   "cell_type": "code",
   "execution_count": 78,
   "id": "9cc45e7c",
   "metadata": {},
   "outputs": [],
   "source": [
    "neutralInstance = CustomPerformanceEvaluation(dataset)\n",
    "truePositive = neutralInstance.calculateTruePositive(\"neutral\")\n",
    "trueNegative = neutralInstance.calculateTrueNegative(\"neutral\")\n",
    "falsePositive = neutralInstance.calculateFalsePositive(\"neutral\")\n",
    "falseNegative = neutralInstance.calculateFalseNegative(\"neutral\")"
   ]
  },
  {
   "cell_type": "code",
   "execution_count": 79,
   "id": "4167c064",
   "metadata": {},
   "outputs": [],
   "source": [
    "precision = neutralInstance.calculatePrecision(truePositive, falsePositive)\n",
    "recall = neutralInstance.calculateRecall(truePositive, falseNegative)\n",
    "f1Score = neutralInstance.calculateF1Score()"
   ]
  },
  {
   "cell_type": "code",
   "execution_count": 80,
   "id": "23dad50c",
   "metadata": {},
   "outputs": [
    {
     "name": "stdout",
     "output_type": "stream",
     "text": [
      "Precision: 0.1703056768558952\n",
      "Recall: 0.12956810631229235\n",
      "F1 Score: 0.14716981132075468\n"
     ]
    }
   ],
   "source": [
    "print(f\"Precision: {precision}\")\n",
    "print(f\"Recall: {recall}\")\n",
    "print(f\"F1 Score: {f1Score}\")"
   ]
  },
  {
   "cell_type": "markdown",
   "id": "fc540712",
   "metadata": {},
   "source": [
    "<h3 style = \"font-size:60px; font-family:Garamond ; font-weight : normal; background-color: #f6f5f5 ; color : #fe346e; text-align: center; border-radius: 100px 100px;\">Sample Visualization of Rule 5</h3>"
   ]
  },
  {
   "cell_type": "code",
   "execution_count": 81,
   "id": "3cb70e69",
   "metadata": {},
   "outputs": [
    {
     "data": {
      "text/html": [
       "<span class=\"tex2jax_ignore\"><svg xmlns=\"http://www.w3.org/2000/svg\" xmlns:xlink=\"http://www.w3.org/1999/xlink\" xml:lang=\"en\" id=\"c56dcb1f8197454886200f8b38058555-0\" class=\"displacy\" width=\"925\" height=\"399.5\" direction=\"ltr\" style=\"max-width: none; height: 399.5px; color: #000000; background: #ffffff; font-family: Arial; direction: ltr\">\n",
       "<text class=\"displacy-token\" fill=\"currentColor\" text-anchor=\"middle\" y=\"309.5\">\n",
       "    <tspan class=\"displacy-word\" fill=\"currentColor\" x=\"50\">food</tspan>\n",
       "    <tspan class=\"displacy-tag\" dy=\"2em\" fill=\"currentColor\" x=\"50\">NOUN</tspan>\n",
       "</text>\n",
       "\n",
       "<text class=\"displacy-token\" fill=\"currentColor\" text-anchor=\"middle\" y=\"309.5\">\n",
       "    <tspan class=\"displacy-word\" fill=\"currentColor\" x=\"225\">outstanding</tspan>\n",
       "    <tspan class=\"displacy-tag\" dy=\"2em\" fill=\"currentColor\" x=\"225\">ADJ</tspan>\n",
       "</text>\n",
       "\n",
       "<text class=\"displacy-token\" fill=\"currentColor\" text-anchor=\"middle\" y=\"309.5\">\n",
       "    <tspan class=\"displacy-word\" fill=\"currentColor\" x=\"400\">little</tspan>\n",
       "    <tspan class=\"displacy-tag\" dy=\"2em\" fill=\"currentColor\" x=\"400\">ADJ</tspan>\n",
       "</text>\n",
       "\n",
       "<text class=\"displacy-token\" fill=\"currentColor\" text-anchor=\"middle\" y=\"309.5\">\n",
       "    <tspan class=\"displacy-word\" fill=\"currentColor\" x=\"575\">perk</tspan>\n",
       "    <tspan class=\"displacy-tag\" dy=\"2em\" fill=\"currentColor\" x=\"575\">NOUN</tspan>\n",
       "</text>\n",
       "\n",
       "<text class=\"displacy-token\" fill=\"currentColor\" text-anchor=\"middle\" y=\"309.5\">\n",
       "    <tspan class=\"displacy-word\" fill=\"currentColor\" x=\"750\">great</tspan>\n",
       "    <tspan class=\"displacy-tag\" dy=\"2em\" fill=\"currentColor\" x=\"750\">ADJ</tspan>\n",
       "</text>\n",
       "\n",
       "<g class=\"displacy-arrow\">\n",
       "    <path class=\"displacy-arc\" id=\"arrow-c56dcb1f8197454886200f8b38058555-0-0\" stroke-width=\"2px\" d=\"M70,264.5 C70,177.0 215.0,177.0 215.0,264.5\" fill=\"none\" stroke=\"currentColor\"/>\n",
       "    <text dy=\"1.25em\" style=\"font-size: 0.8em; letter-spacing: 1px\">\n",
       "        <textPath xlink:href=\"#arrow-c56dcb1f8197454886200f8b38058555-0-0\" class=\"displacy-label\" startOffset=\"50%\" side=\"left\" fill=\"currentColor\" text-anchor=\"middle\">amod</textPath>\n",
       "    </text>\n",
       "    <path class=\"displacy-arrowhead\" d=\"M215.0,266.5 L223.0,254.5 207.0,254.5\" fill=\"currentColor\"/>\n",
       "</g>\n",
       "\n",
       "<g class=\"displacy-arrow\">\n",
       "    <path class=\"displacy-arc\" id=\"arrow-c56dcb1f8197454886200f8b38058555-0-1\" stroke-width=\"2px\" d=\"M420,264.5 C420,177.0 565.0,177.0 565.0,264.5\" fill=\"none\" stroke=\"currentColor\"/>\n",
       "    <text dy=\"1.25em\" style=\"font-size: 0.8em; letter-spacing: 1px\">\n",
       "        <textPath xlink:href=\"#arrow-c56dcb1f8197454886200f8b38058555-0-1\" class=\"displacy-label\" startOffset=\"50%\" side=\"left\" fill=\"currentColor\" text-anchor=\"middle\">amod</textPath>\n",
       "    </text>\n",
       "    <path class=\"displacy-arrowhead\" d=\"M420,266.5 L412,254.5 428,254.5\" fill=\"currentColor\"/>\n",
       "</g>\n",
       "\n",
       "<g class=\"displacy-arrow\">\n",
       "    <path class=\"displacy-arc\" id=\"arrow-c56dcb1f8197454886200f8b38058555-0-2\" stroke-width=\"2px\" d=\"M70,264.5 C70,89.5 570.0,89.5 570.0,264.5\" fill=\"none\" stroke=\"currentColor\"/>\n",
       "    <text dy=\"1.25em\" style=\"font-size: 0.8em; letter-spacing: 1px\">\n",
       "        <textPath xlink:href=\"#arrow-c56dcb1f8197454886200f8b38058555-0-2\" class=\"displacy-label\" startOffset=\"50%\" side=\"left\" fill=\"currentColor\" text-anchor=\"middle\">appos</textPath>\n",
       "    </text>\n",
       "    <path class=\"displacy-arrowhead\" d=\"M570.0,266.5 L578.0,254.5 562.0,254.5\" fill=\"currentColor\"/>\n",
       "</g>\n",
       "\n",
       "<g class=\"displacy-arrow\">\n",
       "    <path class=\"displacy-arc\" id=\"arrow-c56dcb1f8197454886200f8b38058555-0-3\" stroke-width=\"2px\" d=\"M70,264.5 C70,2.0 750.0,2.0 750.0,264.5\" fill=\"none\" stroke=\"currentColor\"/>\n",
       "    <text dy=\"1.25em\" style=\"font-size: 0.8em; letter-spacing: 1px\">\n",
       "        <textPath xlink:href=\"#arrow-c56dcb1f8197454886200f8b38058555-0-3\" class=\"displacy-label\" startOffset=\"50%\" side=\"left\" fill=\"currentColor\" text-anchor=\"middle\">amod</textPath>\n",
       "    </text>\n",
       "    <path class=\"displacy-arrowhead\" d=\"M750.0,266.5 L758.0,254.5 742.0,254.5\" fill=\"currentColor\"/>\n",
       "</g>\n",
       "</svg></span>"
      ],
      "text/plain": [
       "<IPython.core.display.HTML object>"
      ]
     },
     "metadata": {},
     "output_type": "display_data"
    }
   ],
   "source": [
    "sampleSentence = \"food outstanding little perk great\"\n",
    "sampleDoc = nlp(sampleSentence)\n",
    "displacy.render(sampleDoc, style='dep', jupyter=True)"
   ]
  },
  {
   "cell_type": "code",
   "execution_count": 82,
   "id": "9557e47e",
   "metadata": {},
   "outputs": [
    {
     "name": "stdout",
     "output_type": "stream",
     "text": [
      "All recurring children of the aspect term\n",
      "outstanding\n",
      "perk\n",
      "little\n",
      "great\n"
     ]
    }
   ],
   "source": [
    "def sampleRecursion(token):\n",
    "    for child in token.children:\n",
    "        print(child.text)\n",
    "        sampleRecursion(child)\n",
    "        \n",
    "        \n",
    "print(\"All recurring children of the aspect term\")\n",
    "\n",
    "for token in sampleDoc:\n",
    "    if token.text in [\"food\"]:\n",
    "        if token.children:\n",
    "            sampleRecursion(token)\n",
    "        else:\n",
    "            print(\"No children\")\n",
    "            "
   ]
  },
  {
   "cell_type": "code",
   "execution_count": 83,
   "id": "16bc49ec",
   "metadata": {},
   "outputs": [],
   "source": [
    "class CustomRule5:\n",
    "    def __init__(self, dataset, positive_words, negative_words):\n",
    "        self.pred_polarity_list = []\n",
    "        self.sentences = dataset.text.to_list()\n",
    "        self.terms = dataset.term.to_list()\n",
    "        self.positive_words = positive_words\n",
    "        self.negative_words = negative_words\n",
    "    \n",
    "    def iteratingChild(self, token):\n",
    "        for child in token.children:\n",
    "            if child.text in self.positive_words:\n",
    "                return \"positive\"\n",
    "            elif child.text in self.negative_words:\n",
    "                return \"negative\"\n",
    "            else:\n",
    "                return self.iteratingChild(child)\n",
    "                \n",
    "        return \"neutral\"\n",
    "                \n",
    "    \n",
    "    def calculatePredictedPolarities(self):\n",
    "        for idx, sentence in enumerate(self.sentences):\n",
    "            doc = nlp(sentence)\n",
    "            pred = None\n",
    "            for token in doc:\n",
    "                if token.text in self.terms[idx].split():\n",
    "                    if token.text in self.positive_words:\n",
    "                        pred = \"positive\"\n",
    "                    elif token.text in self.negative_words:\n",
    "                        pred = \"negative\"\n",
    "                    else:\n",
    "                        if token.children:\n",
    "                            pred = self.iteratingChild(token)\n",
    "                        else:\n",
    "                            pred = \"neutral\"\n",
    "            self.pred_polarity_list.append(pred)\n",
    "        return self.pred_polarity_list"
   ]
  },
  {
   "cell_type": "code",
   "execution_count": 84,
   "id": "96299f06",
   "metadata": {},
   "outputs": [],
   "source": [
    "dataset = dataset.drop(labels=\"pred_polarity\", axis=1)"
   ]
  },
  {
   "cell_type": "code",
   "execution_count": 85,
   "id": "d11aff4b",
   "metadata": {},
   "outputs": [],
   "source": [
    "cr5Instance = CustomRule5(dataset, positive_list, negative_list)\n",
    "dataset[\"pred_polarity\"] = cr5Instance.calculatePredictedPolarities()"
   ]
  },
  {
   "cell_type": "markdown",
   "id": "09472186",
   "metadata": {},
   "source": [
    "<h3 style = \"font-size:60px; font-family:Garamond ; font-weight : normal; background-color: #f6f5f5 ; color : #fe346e; text-align: center; border-radius: 100px 100px;\">Performance Evaluation</h3>"
   ]
  },
  {
   "cell_type": "markdown",
   "id": "160cb563",
   "metadata": {},
   "source": [
    "<h3 style = \"font-size:60px; font-family:Garamond ; font-weight : normal; background-color: #f6f5f5 ; color : #fe346e; text-align: center; border-radius: 100px 100px;\">Positive Sentiment</h3>"
   ]
  },
  {
   "cell_type": "code",
   "execution_count": 86,
   "id": "8d1a3aef",
   "metadata": {},
   "outputs": [],
   "source": [
    "positiveInstance = CustomPerformanceEvaluation(dataset)\n",
    "truePositive = positiveInstance.calculateTruePositive(\"positive\")\n",
    "trueNegative = positiveInstance.calculateTrueNegative(\"positive\")\n",
    "falsePositive = positiveInstance.calculateFalsePositive(\"positive\")\n",
    "falseNegative = positiveInstance.calculateFalseNegative(\"positive\")"
   ]
  },
  {
   "cell_type": "code",
   "execution_count": 87,
   "id": "ceb77370",
   "metadata": {},
   "outputs": [],
   "source": [
    "precision = positiveInstance.calculatePrecision(truePositive, falsePositive)\n",
    "recall = positiveInstance.calculateRecall(truePositive, falseNegative)\n",
    "f1Score = positiveInstance.calculateF1Score()"
   ]
  },
  {
   "cell_type": "code",
   "execution_count": 88,
   "id": "f959f6c2",
   "metadata": {},
   "outputs": [
    {
     "name": "stdout",
     "output_type": "stream",
     "text": [
      "Precision: 0.8417910447761194\n",
      "Recall: 0.23228995057660626\n",
      "F1 Score: 0.3641058747579083\n"
     ]
    }
   ],
   "source": [
    "print(f\"Precision: {precision}\")\n",
    "print(f\"Recall: {recall}\")\n",
    "print(f\"F1 Score: {f1Score}\")"
   ]
  },
  {
   "cell_type": "markdown",
   "id": "0bc06067",
   "metadata": {},
   "source": [
    "<h3 style = \"font-size:60px; font-family:Garamond ; font-weight : normal; background-color: #f6f5f5 ; color : #fe346e; text-align: center; border-radius: 100px 100px;\">Negative Sentiment</h3>"
   ]
  },
  {
   "cell_type": "code",
   "execution_count": 89,
   "id": "33c78007",
   "metadata": {},
   "outputs": [],
   "source": [
    "negativeInstance = CustomPerformanceEvaluation(dataset)\n",
    "truePositive = negativeInstance.calculateTruePositive(\"negative\")\n",
    "trueNegative = negativeInstance.calculateTrueNegative(\"negative\")\n",
    "falsePositive = negativeInstance.calculateFalsePositive(\"negative\")\n",
    "falseNegative = negativeInstance.calculateFalseNegative(\"negative\")"
   ]
  },
  {
   "cell_type": "code",
   "execution_count": 90,
   "id": "31b7a27b",
   "metadata": {},
   "outputs": [],
   "source": [
    "precision = negativeInstance.calculatePrecision(truePositive, falsePositive)\n",
    "recall = negativeInstance.calculateRecall(truePositive, falseNegative)\n",
    "f1Score = negativeInstance.calculateF1Score()"
   ]
  },
  {
   "cell_type": "code",
   "execution_count": 91,
   "id": "be1c1497",
   "metadata": {},
   "outputs": [
    {
     "name": "stdout",
     "output_type": "stream",
     "text": [
      "Precision: 0.5316455696202531\n",
      "Recall: 0.0963302752293578\n",
      "F1 Score: 0.16310679611650486\n"
     ]
    }
   ],
   "source": [
    "print(f\"Precision: {precision}\")\n",
    "print(f\"Recall: {recall}\")\n",
    "print(f\"F1 Score: {f1Score}\")"
   ]
  },
  {
   "cell_type": "markdown",
   "id": "6a4353f2",
   "metadata": {},
   "source": [
    "<h3 style = \"font-size:60px; font-family:Garamond ; font-weight : normal; background-color: #f6f5f5 ; color : #fe346e; text-align: center; border-radius: 100px 100px;\">Neutral Sentiment</h3>"
   ]
  },
  {
   "cell_type": "code",
   "execution_count": 92,
   "id": "b3e7cdde",
   "metadata": {},
   "outputs": [],
   "source": [
    "neutralInstance = CustomPerformanceEvaluation(dataset)\n",
    "truePositive = neutralInstance.calculateTruePositive(\"neutral\")\n",
    "trueNegative = neutralInstance.calculateTrueNegative(\"neutral\")\n",
    "falsePositive = neutralInstance.calculateFalsePositive(\"neutral\")\n",
    "falseNegative = neutralInstance.calculateFalseNegative(\"neutral\")"
   ]
  },
  {
   "cell_type": "code",
   "execution_count": 93,
   "id": "12c1df01",
   "metadata": {},
   "outputs": [],
   "source": [
    "precision = neutralInstance.calculatePrecision(truePositive, falsePositive)\n",
    "recall = neutralInstance.calculateRecall(truePositive, falseNegative)\n",
    "f1Score = neutralInstance.calculateF1Score()"
   ]
  },
  {
   "cell_type": "code",
   "execution_count": 94,
   "id": "9951b4bb",
   "metadata": {},
   "outputs": [
    {
     "name": "stdout",
     "output_type": "stream",
     "text": [
      "Precision: 0.18241042345276873\n",
      "Recall: 0.9302325581395349\n",
      "F1 Score: 0.30501089324618735\n"
     ]
    }
   ],
   "source": [
    "print(f\"Precision: {precision}\")\n",
    "print(f\"Recall: {recall}\")\n",
    "print(f\"F1 Score: {f1Score}\")"
   ]
  },
  {
   "cell_type": "code",
   "execution_count": null,
   "id": "1f861c7a",
   "metadata": {},
   "outputs": [],
   "source": []
  }
 ],
 "metadata": {
  "kernelspec": {
   "display_name": "Python 3 (ipykernel)",
   "language": "python",
   "name": "python3"
  },
  "language_info": {
   "codemirror_mode": {
    "name": "ipython",
    "version": 3
   },
   "file_extension": ".py",
   "mimetype": "text/x-python",
   "name": "python",
   "nbconvert_exporter": "python",
   "pygments_lexer": "ipython3",
   "version": "3.9.10"
  }
 },
 "nbformat": 4,
 "nbformat_minor": 5
}
